{
 "cells": [
  {
   "cell_type": "markdown",
   "metadata": {},
   "source": [
    "# Final Project - Introduction to Machine Learning"
   ]
  },
  {
   "cell_type": "code",
   "execution_count": 1,
   "metadata": {},
   "outputs": [],
   "source": [
    "import pandas as pd\n",
    "import numpy as np\n",
    "import seaborn as sns\n",
    "import matplotlib.pyplot as plt\n",
    "%matplotlib inline\n",
    "from scipy import stats\n",
    "from sklearn.preprocessing import StandardScaler, MinMaxScaler\n",
    "from sklearn.model_selection import train_test_split, GridSearchCV, KFold, cross_validate\n",
    "from sklearn.decomposition import PCA\n",
    "from sklearn.feature_selection import VarianceThreshold\n",
    "from sklearn.metrics import auc, roc_auc_score, mean_squared_error, roc_curve, RocCurveDisplay\n",
    "from sklearn.linear_model import LinearRegression, LogisticRegression\n",
    "from sklearn.model_selection import StratifiedKFold\n",
    "from sklearn.naive_bayes import GaussianNB\n",
    "from sklearn.svm import SVC\n",
    "from sklearn import metrics\n",
    "from sklearn.metrics import confusion_matrix, plot_confusion_matrix\n",
    "from sklearn.ensemble import AdaBoostClassifier\n",
    "\n",
    "\n",
    "import time\n",
    "import warnings\n",
    "warnings.filterwarnings('ignore')"
   ]
  },
  {
   "cell_type": "markdown",
   "metadata": {},
   "source": [
    "### Import Data"
   ]
  },
  {
   "cell_type": "code",
   "execution_count": 2,
   "metadata": {},
   "outputs": [],
   "source": [
    "data = pd.read_csv('train.csv')\n",
    "df = data.copy()\n",
    "df = df.iloc[: , 1:] # removing the column 'id' - not a feature\n",
    "df_copy = df.copy()"
   ]
  },
  {
   "cell_type": "markdown",
   "metadata": {},
   "source": [
    "##### Utility functions:"
   ]
  },
  {
   "cell_type": "code",
   "execution_count": 3,
   "metadata": {},
   "outputs": [],
   "source": [
    "def change_coloumn(df, col, seperator, index): #function that deals with removing prefix/suffix\n",
    "    updated_col = df[col].str.split(pat =seperator).str.get(index)\n",
    "    return updated_col\n",
    "\n",
    "def remove_column(df, col):\n",
    "    return df.drop(columns=col)"
   ]
  },
  {
   "cell_type": "code",
   "execution_count": 4,
   "metadata": {},
   "outputs": [],
   "source": [
    "def remove_row(x,y,index_rows):\n",
    "    x = x.drop(index_rows)\n",
    "    y = y.drop(index_rows)\n",
    "    x.reset_index(drop=True, inplace=True)\n",
    "    y.reset_index(drop=True, inplace=True)\n",
    "    return(x,y)"
   ]
  },
  {
   "cell_type": "code",
   "execution_count": 5,
   "metadata": {},
   "outputs": [],
   "source": [
    "def cat_filling_null(col, df, cat_most_freq, test= None):\n",
    "    if test == None:\n",
    "        most_freq_value = df[col].value_counts().idxmax()\n",
    "        df[col].fillna(most_freq_value, inplace=True)\n",
    "        cat_most_freq[col] = most_freq_value\n",
    "    else:\n",
    "        df[col].fillna(cat_most_freq[col], inplace=True)\n",
    "    return df"
   ]
  },
  {
   "cell_type": "code",
   "execution_count": 6,
   "metadata": {},
   "outputs": [],
   "source": [
    "\n",
    "def num_filling_null_median(col, df, num_median, test=None):\n",
    "    if test == None:\n",
    "        col_median = df[col].median()\n",
    "        df[col].fillna(col_median, inplace=True)\n",
    "        num_median[col] = col_median\n",
    "    else:\n",
    "        df[col].fillna(num_median[col], inplace=True)\n",
    "    return df\n",
    "\n",
    "def num_filling_null_mean(col, df, num_mean, test = None):\n",
    "    if test == None:\n",
    "        col_mean = df[col].mean()\n",
    "        df[col].fillna(col_mean, inplace=True)\n",
    "        num_mean[col] = col_mean\n",
    "    else:\n",
    "        df[col].fillna(num_mean[col], inplace=True)\n",
    "    return df"
   ]
  },
  {
   "cell_type": "code",
   "execution_count": 7,
   "metadata": {},
   "outputs": [],
   "source": [
    "def change_boolean(data, col):\n",
    "    data[col] = data[col].astype(int)\n",
    "    return data"
   ]
  },
  {
   "cell_type": "code",
   "execution_count": 8,
   "metadata": {},
   "outputs": [],
   "source": [
    "def change_to_dummies(data, cols):\n",
    "    new_data = pd.get_dummies(data, columns = cols)\n",
    "    return new_data"
   ]
  },
  {
   "cell_type": "markdown",
   "metadata": {},
   "source": [
    "# Part 1 - Exploration"
   ]
  },
  {
   "cell_type": "markdown",
   "metadata": {},
   "source": [
    "### Overview\n",
    "First we looked on parts of the rows"
   ]
  },
  {
   "cell_type": "code",
   "execution_count": 9,
   "metadata": {},
   "outputs": [
    {
     "data": {
      "text/html": [
       "<div>\n",
       "<style scoped>\n",
       "    .dataframe tbody tr th:only-of-type {\n",
       "        vertical-align: middle;\n",
       "    }\n",
       "\n",
       "    .dataframe tbody tr th {\n",
       "        vertical-align: top;\n",
       "    }\n",
       "\n",
       "    .dataframe thead th {\n",
       "        text-align: right;\n",
       "    }\n",
       "</style>\n",
       "<table border=\"1\" class=\"dataframe\">\n",
       "  <thead>\n",
       "    <tr style=\"text-align: right;\">\n",
       "      <th></th>\n",
       "      <th>num_of_admin_pages</th>\n",
       "      <th>admin_page_duration</th>\n",
       "      <th>num_of_info_pages</th>\n",
       "      <th>info_page_duration</th>\n",
       "      <th>num_of_product_pages</th>\n",
       "      <th>product_page_duration</th>\n",
       "      <th>total_duration</th>\n",
       "      <th>BounceRates</th>\n",
       "      <th>ExitRates</th>\n",
       "      <th>PageValues</th>\n",
       "      <th>...</th>\n",
       "      <th>device</th>\n",
       "      <th>internet_browser</th>\n",
       "      <th>Region</th>\n",
       "      <th>user_type</th>\n",
       "      <th>Weekend</th>\n",
       "      <th>A</th>\n",
       "      <th>B</th>\n",
       "      <th>C</th>\n",
       "      <th>D</th>\n",
       "      <th>purchase</th>\n",
       "    </tr>\n",
       "  </thead>\n",
       "  <tbody>\n",
       "    <tr>\n",
       "      <th>0</th>\n",
       "      <td>0.0</td>\n",
       "      <td>0.0</td>\n",
       "      <td>0.0</td>\n",
       "      <td>0.0 minutes</td>\n",
       "      <td>1.0</td>\n",
       "      <td>0.0 minutes</td>\n",
       "      <td>NaN</td>\n",
       "      <td>0.200000</td>\n",
       "      <td>0.200000</td>\n",
       "      <td>0.000000</td>\n",
       "      <td>...</td>\n",
       "      <td>1.0</td>\n",
       "      <td>safari_15</td>\n",
       "      <td>1.0</td>\n",
       "      <td>Returning_Visitor</td>\n",
       "      <td>False</td>\n",
       "      <td>c_1</td>\n",
       "      <td>118.880094</td>\n",
       "      <td>log202</td>\n",
       "      <td>NaN</td>\n",
       "      <td>0</td>\n",
       "    </tr>\n",
       "    <tr>\n",
       "      <th>1</th>\n",
       "      <td>0.0</td>\n",
       "      <td>0.0</td>\n",
       "      <td>0.0</td>\n",
       "      <td>0.0 minutes</td>\n",
       "      <td>1.0</td>\n",
       "      <td>0.0 minutes</td>\n",
       "      <td>0.000000</td>\n",
       "      <td>0.200000</td>\n",
       "      <td>0.200000</td>\n",
       "      <td>0.000000</td>\n",
       "      <td>...</td>\n",
       "      <td>4.0</td>\n",
       "      <td>safari_14</td>\n",
       "      <td>9.0</td>\n",
       "      <td>Returning_Visitor</td>\n",
       "      <td>False</td>\n",
       "      <td>c_3</td>\n",
       "      <td>113.358423</td>\n",
       "      <td>log404</td>\n",
       "      <td>NaN</td>\n",
       "      <td>0</td>\n",
       "    </tr>\n",
       "    <tr>\n",
       "      <th>2</th>\n",
       "      <td>0.0</td>\n",
       "      <td>0.0</td>\n",
       "      <td>0.0</td>\n",
       "      <td>NaN</td>\n",
       "      <td>NaN</td>\n",
       "      <td>627.5 minutes</td>\n",
       "      <td>627.500000</td>\n",
       "      <td>0.020000</td>\n",
       "      <td>0.050000</td>\n",
       "      <td>0.000000</td>\n",
       "      <td>...</td>\n",
       "      <td>3.0</td>\n",
       "      <td>browser_3_v17</td>\n",
       "      <td>1.0</td>\n",
       "      <td>Returning_Visitor</td>\n",
       "      <td>True</td>\n",
       "      <td>c_4</td>\n",
       "      <td>121.507695</td>\n",
       "      <td>log202</td>\n",
       "      <td>NaN</td>\n",
       "      <td>0</td>\n",
       "    </tr>\n",
       "    <tr>\n",
       "      <th>3</th>\n",
       "      <td>0.0</td>\n",
       "      <td>0.0</td>\n",
       "      <td>0.0</td>\n",
       "      <td>0.0 minutes</td>\n",
       "      <td>19.0</td>\n",
       "      <td>154.2166667 minutes</td>\n",
       "      <td>154.216667</td>\n",
       "      <td>0.015789</td>\n",
       "      <td>0.024561</td>\n",
       "      <td>0.000000</td>\n",
       "      <td>...</td>\n",
       "      <td>2.0</td>\n",
       "      <td>chrome_99.1.3</td>\n",
       "      <td>1.0</td>\n",
       "      <td>Returning_Visitor</td>\n",
       "      <td>False</td>\n",
       "      <td>c_3</td>\n",
       "      <td>93.747176</td>\n",
       "      <td>log_100</td>\n",
       "      <td>NaN</td>\n",
       "      <td>0</td>\n",
       "    </tr>\n",
       "    <tr>\n",
       "      <th>4</th>\n",
       "      <td>0.0</td>\n",
       "      <td>0.0</td>\n",
       "      <td>0.0</td>\n",
       "      <td>0.0 minutes</td>\n",
       "      <td>1.0</td>\n",
       "      <td>0.0 minutes</td>\n",
       "      <td>NaN</td>\n",
       "      <td>0.200000</td>\n",
       "      <td>0.200000</td>\n",
       "      <td>0.000000</td>\n",
       "      <td>...</td>\n",
       "      <td>2.0</td>\n",
       "      <td>edge_96.0.1054.75</td>\n",
       "      <td>3.0</td>\n",
       "      <td>Returning_Visitor</td>\n",
       "      <td>False</td>\n",
       "      <td>c_3</td>\n",
       "      <td>99.545824</td>\n",
       "      <td>log202</td>\n",
       "      <td>NaN</td>\n",
       "      <td>0</td>\n",
       "    </tr>\n",
       "    <tr>\n",
       "      <th>...</th>\n",
       "      <td>...</td>\n",
       "      <td>...</td>\n",
       "      <td>...</td>\n",
       "      <td>...</td>\n",
       "      <td>...</td>\n",
       "      <td>...</td>\n",
       "      <td>...</td>\n",
       "      <td>...</td>\n",
       "      <td>...</td>\n",
       "      <td>...</td>\n",
       "      <td>...</td>\n",
       "      <td>...</td>\n",
       "      <td>...</td>\n",
       "      <td>...</td>\n",
       "      <td>...</td>\n",
       "      <td>...</td>\n",
       "      <td>...</td>\n",
       "      <td>...</td>\n",
       "      <td>...</td>\n",
       "      <td>...</td>\n",
       "      <td>...</td>\n",
       "    </tr>\n",
       "    <tr>\n",
       "      <th>10474</th>\n",
       "      <td>3.0</td>\n",
       "      <td>145.0</td>\n",
       "      <td>0.0</td>\n",
       "      <td>0.0 minutes</td>\n",
       "      <td>53.0</td>\n",
       "      <td>1783.791667 minutes</td>\n",
       "      <td>1928.791667</td>\n",
       "      <td>0.007143</td>\n",
       "      <td>0.029031</td>\n",
       "      <td>12.241717</td>\n",
       "      <td>...</td>\n",
       "      <td>4.0</td>\n",
       "      <td>browser_6_v12</td>\n",
       "      <td>1.0</td>\n",
       "      <td>Returning_Visitor</td>\n",
       "      <td>True</td>\n",
       "      <td>c_1</td>\n",
       "      <td>79.548460</td>\n",
       "      <td>log400</td>\n",
       "      <td>NaN</td>\n",
       "      <td>0</td>\n",
       "    </tr>\n",
       "    <tr>\n",
       "      <th>10475</th>\n",
       "      <td>0.0</td>\n",
       "      <td>0.0</td>\n",
       "      <td>0.0</td>\n",
       "      <td>0.0 minutes</td>\n",
       "      <td>5.0</td>\n",
       "      <td>465.75 minutes</td>\n",
       "      <td>NaN</td>\n",
       "      <td>0.000000</td>\n",
       "      <td>0.021333</td>\n",
       "      <td>0.000000</td>\n",
       "      <td>...</td>\n",
       "      <td>3.0</td>\n",
       "      <td>chrome_98.0.1</td>\n",
       "      <td>1.0</td>\n",
       "      <td>Returning_Visitor</td>\n",
       "      <td>True</td>\n",
       "      <td>c_8</td>\n",
       "      <td>99.457255</td>\n",
       "      <td>log202</td>\n",
       "      <td>NaN</td>\n",
       "      <td>0</td>\n",
       "    </tr>\n",
       "    <tr>\n",
       "      <th>10476</th>\n",
       "      <td>0.0</td>\n",
       "      <td>0.0</td>\n",
       "      <td>0.0</td>\n",
       "      <td>0.0 minutes</td>\n",
       "      <td>6.0</td>\n",
       "      <td>184.25 minutes</td>\n",
       "      <td>NaN</td>\n",
       "      <td>0.083333</td>\n",
       "      <td>0.086667</td>\n",
       "      <td>0.000000</td>\n",
       "      <td>...</td>\n",
       "      <td>3.0</td>\n",
       "      <td>chrome_99.1.3</td>\n",
       "      <td>1.0</td>\n",
       "      <td>Returning_Visitor</td>\n",
       "      <td>True</td>\n",
       "      <td>c_13</td>\n",
       "      <td>94.417344</td>\n",
       "      <td>log8080</td>\n",
       "      <td>NaN</td>\n",
       "      <td>0</td>\n",
       "    </tr>\n",
       "    <tr>\n",
       "      <th>10477</th>\n",
       "      <td>4.0</td>\n",
       "      <td>75.0</td>\n",
       "      <td>0.0</td>\n",
       "      <td>0.0 minutes</td>\n",
       "      <td>15.0</td>\n",
       "      <td>346.0 minutes</td>\n",
       "      <td>NaN</td>\n",
       "      <td>0.000000</td>\n",
       "      <td>0.021053</td>\n",
       "      <td>0.000000</td>\n",
       "      <td>...</td>\n",
       "      <td>2.0</td>\n",
       "      <td>chrome_80</td>\n",
       "      <td>3.0</td>\n",
       "      <td>Returning_Visitor</td>\n",
       "      <td>False</td>\n",
       "      <td>c_11</td>\n",
       "      <td>108.919057</td>\n",
       "      <td>log400</td>\n",
       "      <td>NaN</td>\n",
       "      <td>0</td>\n",
       "    </tr>\n",
       "    <tr>\n",
       "      <th>10478</th>\n",
       "      <td>0.0</td>\n",
       "      <td>0.0</td>\n",
       "      <td>0.0</td>\n",
       "      <td>0.0 minutes</td>\n",
       "      <td>3.0</td>\n",
       "      <td>21.25 minutes</td>\n",
       "      <td>21.250000</td>\n",
       "      <td>0.000000</td>\n",
       "      <td>0.066667</td>\n",
       "      <td>0.000000</td>\n",
       "      <td>...</td>\n",
       "      <td>3.0</td>\n",
       "      <td>chrome_89</td>\n",
       "      <td>1.0</td>\n",
       "      <td>New_Visitor</td>\n",
       "      <td>True</td>\n",
       "      <td>c_2</td>\n",
       "      <td>90.072077</td>\n",
       "      <td>log8080</td>\n",
       "      <td>NaN</td>\n",
       "      <td>0</td>\n",
       "    </tr>\n",
       "  </tbody>\n",
       "</table>\n",
       "<p>10479 rows × 22 columns</p>\n",
       "</div>"
      ],
      "text/plain": [
       "       num_of_admin_pages  admin_page_duration  num_of_info_pages  \\\n",
       "0                     0.0                  0.0                0.0   \n",
       "1                     0.0                  0.0                0.0   \n",
       "2                     0.0                  0.0                0.0   \n",
       "3                     0.0                  0.0                0.0   \n",
       "4                     0.0                  0.0                0.0   \n",
       "...                   ...                  ...                ...   \n",
       "10474                 3.0                145.0                0.0   \n",
       "10475                 0.0                  0.0                0.0   \n",
       "10476                 0.0                  0.0                0.0   \n",
       "10477                 4.0                 75.0                0.0   \n",
       "10478                 0.0                  0.0                0.0   \n",
       "\n",
       "      info_page_duration  num_of_product_pages product_page_duration  \\\n",
       "0            0.0 minutes                   1.0           0.0 minutes   \n",
       "1            0.0 minutes                   1.0           0.0 minutes   \n",
       "2                    NaN                   NaN         627.5 minutes   \n",
       "3            0.0 minutes                  19.0   154.2166667 minutes   \n",
       "4            0.0 minutes                   1.0           0.0 minutes   \n",
       "...                  ...                   ...                   ...   \n",
       "10474        0.0 minutes                  53.0   1783.791667 minutes   \n",
       "10475        0.0 minutes                   5.0        465.75 minutes   \n",
       "10476        0.0 minutes                   6.0        184.25 minutes   \n",
       "10477        0.0 minutes                  15.0         346.0 minutes   \n",
       "10478        0.0 minutes                   3.0         21.25 minutes   \n",
       "\n",
       "       total_duration  BounceRates  ExitRates  PageValues  ...  device  \\\n",
       "0                 NaN     0.200000   0.200000    0.000000  ...     1.0   \n",
       "1            0.000000     0.200000   0.200000    0.000000  ...     4.0   \n",
       "2          627.500000     0.020000   0.050000    0.000000  ...     3.0   \n",
       "3          154.216667     0.015789   0.024561    0.000000  ...     2.0   \n",
       "4                 NaN     0.200000   0.200000    0.000000  ...     2.0   \n",
       "...               ...          ...        ...         ...  ...     ...   \n",
       "10474     1928.791667     0.007143   0.029031   12.241717  ...     4.0   \n",
       "10475             NaN     0.000000   0.021333    0.000000  ...     3.0   \n",
       "10476             NaN     0.083333   0.086667    0.000000  ...     3.0   \n",
       "10477             NaN     0.000000   0.021053    0.000000  ...     2.0   \n",
       "10478       21.250000     0.000000   0.066667    0.000000  ...     3.0   \n",
       "\n",
       "        internet_browser  Region          user_type  Weekend     A  \\\n",
       "0              safari_15     1.0  Returning_Visitor    False   c_1   \n",
       "1              safari_14     9.0  Returning_Visitor    False   c_3   \n",
       "2          browser_3_v17     1.0  Returning_Visitor     True   c_4   \n",
       "3          chrome_99.1.3     1.0  Returning_Visitor    False   c_3   \n",
       "4      edge_96.0.1054.75     3.0  Returning_Visitor    False   c_3   \n",
       "...                  ...     ...                ...      ...   ...   \n",
       "10474      browser_6_v12     1.0  Returning_Visitor     True   c_1   \n",
       "10475      chrome_98.0.1     1.0  Returning_Visitor     True   c_8   \n",
       "10476      chrome_99.1.3     1.0  Returning_Visitor     True  c_13   \n",
       "10477          chrome_80     3.0  Returning_Visitor    False  c_11   \n",
       "10478          chrome_89     1.0        New_Visitor     True   c_2   \n",
       "\n",
       "                B        C   D purchase  \n",
       "0      118.880094   log202 NaN        0  \n",
       "1      113.358423   log404 NaN        0  \n",
       "2      121.507695   log202 NaN        0  \n",
       "3       93.747176  log_100 NaN        0  \n",
       "4       99.545824   log202 NaN        0  \n",
       "...           ...      ...  ..      ...  \n",
       "10474   79.548460   log400 NaN        0  \n",
       "10475   99.457255   log202 NaN        0  \n",
       "10476   94.417344  log8080 NaN        0  \n",
       "10477  108.919057   log400 NaN        0  \n",
       "10478   90.072077  log8080 NaN        0  \n",
       "\n",
       "[10479 rows x 22 columns]"
      ]
     },
     "execution_count": 9,
     "metadata": {},
     "output_type": "execute_result"
    }
   ],
   "source": [
    "df"
   ]
  },
  {
   "cell_type": "code",
   "execution_count": 10,
   "metadata": {},
   "outputs": [
    {
     "name": "stdout",
     "output_type": "stream",
     "text": [
      "The train data has 10479 rows(samples) and 21 columns(features)\n"
     ]
    }
   ],
   "source": [
    "num_feat = df.shape[1] - 1 # removing the columns of the label (purchase) - not a feature\n",
    "print (f'The train data has {df.shape[0]} rows(samples) and {num_feat} columns(features)')"
   ]
  },
  {
   "cell_type": "markdown",
   "metadata": {},
   "source": [
    "### Split the data to train and test data sets"
   ]
  },
  {
   "cell_type": "code",
   "execution_count": 11,
   "metadata": {},
   "outputs": [
    {
     "name": "stdout",
     "output_type": "stream",
     "text": [
      "X.shape: (10479, 21), y.shape: (10479,)\n",
      "X_train.shape: (8383, 21), y_train.shape: (8383,), X_test.shape: (2096, 21), y_test.shape: (2096,)\n"
     ]
    }
   ],
   "source": [
    "#Converting data to 2 arrays of x and y\n",
    "X = df.iloc[:,:-1].values\n",
    "y = df.iloc[:,-1]\n",
    "print(f'X.shape: {X.shape}, y.shape: {y.shape}')\n",
    "#split to train and test\n",
    "X_train ,X_test ,y_train, y_test = train_test_split(X,y,test_size = 0.2, random_state= 42, shuffle=True)\n",
    "print(f'X_train.shape: {X_train.shape}, y_train.shape: {y_train.shape}, \\\n",
    "X_test.shape: {X_test.shape}, y_test.shape: {y_test.shape}')\n",
    "#converting to panda data frame\n",
    "name_col = df.columns[:-1]\n",
    "types_col = dict(df.dtypes[:-1])\n",
    "X_train = pd.DataFrame(X_train, columns = name_col)\n",
    "X_test = pd.DataFrame(X_test, columns = name_col)\n",
    "y_train = pd.DataFrame(y_train)\n",
    "y_test = pd.DataFrame(y_test)\n",
    "X_train = X_train.astype(types_col)\n",
    "X_test = X_test.astype(types_col)\n",
    "#reset indices\n",
    "X_train.reset_index(drop=True, inplace=True)\n",
    "X_test.reset_index(drop=True, inplace=True)\n",
    "y_train.reset_index(drop=True, inplace=True)\n",
    "y_test.reset_index(drop=True, inplace=True)\n",
    "x_train_copy = X_train.copy()\n",
    "y_train_copy = y_train.copy()\n",
    "x_test_copy = X_test.copy()\n",
    "y_test_copy = y_test.copy()"
   ]
  },
  {
   "cell_type": "code",
   "execution_count": 12,
   "metadata": {},
   "outputs": [
    {
     "name": "stdout",
     "output_type": "stream",
     "text": [
      "Number of observations labeled as '0': 7078 which are 0.8443278062746034 from the data \n",
      "Number of observations of labeled as '1': 1305 which are 0.15567219372539665 from the data \n",
      "In column 'purchase', Number of observations of null: 0\n"
     ]
    },
    {
     "data": {
      "image/png": "[encoded data removed]",
      "text/plain": [
       "<Figure size 432x288 with 1 Axes>"
      ]
     },
     "metadata": {
      "needs_background": "light"
     },
     "output_type": "display_data"
    }
   ],
   "source": [
    "#count of each label\n",
    "label_0 = y_train[\"purchase\"].value_counts()[0]\n",
    "label_0_pre = label_0/float(y_train.shape[0])\n",
    "label_1 = y_train[\"purchase\"].value_counts()[1]\n",
    "label_1_pre = label_1/float(y_train.shape[0])\n",
    "print (f\"Number of observations labeled as '0': {label_0} which are {label_0_pre} from the data \")\n",
    "print (f\"Number of observations of labeled as '1': {label_1} which are {label_1_pre} from the data \")\n",
    "print(f\"In column 'purchase', Number of observations of null: {(y_train['purchase'].isnull().sum(axis=0))}\")\n",
    "labels = [0,1]\n",
    "values = [label_0,label_1]\n",
    "\n",
    "sns.barplot(x = labels,y = values)\n",
    "plt.xlabel('label(purachse)')\n",
    "plt.ylabel(\"count\")\n",
    "plt.title(r\"Data labels of training part (80% of the training file)\")\n",
    "plt.show() \n"
   ]
  },
  {
   "cell_type": "code",
   "execution_count": 13,
   "metadata": {},
   "outputs": [
    {
     "name": "stdout",
     "output_type": "stream",
     "text": [
      "Number of observations of labeled as '0': 1780 which are 0.8492366412213741 from the data \n",
      "Number of observations of labeled '1': 316 which are 0.15076335877862596 from the data \n",
      "In column 'purchase', Number of observations of null: 0\n"
     ]
    },
    {
     "data": {
      "image/png": "[encoded data removed]",
      "text/plain": [
       "<Figure size 432x288 with 1 Axes>"
      ]
     },
     "metadata": {
      "needs_background": "light"
     },
     "output_type": "display_data"
    }
   ],
   "source": [
    "#count of each label\n",
    "label_0 = y_test[\"purchase\"].value_counts()[0]\n",
    "label_0_pre = label_0/float(y_test.shape[0])\n",
    "label_1 = y_test[\"purchase\"].value_counts()[1]\n",
    "label_1_pre = label_1/float(y_test.shape[0])\n",
    "print (f\"Number of observations of labeled as '0': {label_0} which are {label_0_pre} from the data \")\n",
    "print (f\"Number of observations of labeled '1': {label_1} which are {label_1_pre} from the data \")\n",
    "print(f\"In column 'purchase', Number of observations of null: {(y_test['purchase'].isnull().sum(axis=0))}\")\n",
    "labels = [0,1]\n",
    "values = [label_0,label_1]\n",
    "\n",
    "sns.barplot(x = labels,y = values)\n",
    "plt.xlabel('label(purachse)')\n",
    "plt.ylabel(\"count\")\n",
    "plt.title(r\"Data labels of testing part (20% of the training file)\")\n",
    "plt.show() "
   ]
  },
  {
   "cell_type": "markdown",
   "metadata": {},
   "source": [
    "We can see that in column 'purchase' there are not any missing values but, the representation for each label is clearly not equal."
   ]
  },
  {
   "cell_type": "markdown",
   "metadata": {},
   "source": [
    "### Missing data"
   ]
  },
  {
   "cell_type": "code",
   "execution_count": 14,
   "metadata": {},
   "outputs": [
    {
     "data": {
      "text/plain": [
       "num_of_admin_pages        472\n",
       "admin_page_duration       324\n",
       "num_of_info_pages         568\n",
       "info_page_duration        251\n",
       "num_of_product_pages      318\n",
       "product_page_duration     489\n",
       "total_duration           3810\n",
       "BounceRates                16\n",
       "ExitRates                  22\n",
       "PageValues                 18\n",
       "closeness_to_holiday      396\n",
       "Month                      22\n",
       "device                    270\n",
       "internet_browser          462\n",
       "Region                     16\n",
       "user_type                  17\n",
       "Weekend                    15\n",
       "A                         569\n",
       "B                          14\n",
       "C                          16\n",
       "D                        8299\n",
       "dtype: int64"
      ]
     },
     "execution_count": 14,
     "metadata": {},
     "output_type": "execute_result"
    }
   ],
   "source": [
    "a = X_train.isnull().sum()\n",
    "a[a>0]"
   ]
  },
  {
   "cell_type": "markdown",
   "metadata": {},
   "source": [
    "\n",
    "D : Most of the values are missing, We will consider to remove that column later.\n",
    "\n",
    "total_duration : A significant portion missing values. We will check if this column contains the sum of other duration columns:<br>\n",
    "'admin_page_duration', 'info_page_duration', 'product_page_duration'."
   ]
  },
  {
   "cell_type": "markdown",
   "metadata": {},
   "source": [
    "### Types of the features"
   ]
  },
  {
   "cell_type": "code",
   "execution_count": 15,
   "metadata": {},
   "outputs": [
    {
     "data": {
      "text/plain": [
       "num_of_admin_pages       float64\n",
       "admin_page_duration      float64\n",
       "num_of_info_pages        float64\n",
       "info_page_duration        object\n",
       "num_of_product_pages     float64\n",
       "product_page_duration     object\n",
       "total_duration           float64\n",
       "BounceRates              float64\n",
       "ExitRates                float64\n",
       "PageValues               float64\n",
       "closeness_to_holiday     float64\n",
       "Month                     object\n",
       "device                   float64\n",
       "internet_browser          object\n",
       "Region                   float64\n",
       "user_type                 object\n",
       "Weekend                   object\n",
       "A                         object\n",
       "B                        float64\n",
       "C                         object\n",
       "D                        float64\n",
       "dtype: object"
      ]
     },
     "execution_count": 15,
     "metadata": {},
     "output_type": "execute_result"
    }
   ],
   "source": [
    "X_train.dtypes"
   ]
  },
  {
   "cell_type": "code",
   "execution_count": 16,
   "metadata": {},
   "outputs": [
    {
     "name": "stdout",
     "output_type": "stream",
     "text": [
      "Features that are not numerical: ['C', 'user_type', 'internet_browser', 'info_page_duration', 'product_page_duration', 'Weekend', 'Month', 'A']\n"
     ]
    }
   ],
   "source": [
    "all_cols = X_train.columns \n",
    "numeric = X_train.select_dtypes(include=[np.number]).columns\n",
    "non_numeric = list(set(all_cols) - set(numeric))\n",
    "print(f\"Features that are not numerical: {non_numeric}\")"
   ]
  },
  {
   "cell_type": "markdown",
   "metadata": {},
   "source": [
    "We handled columns that have the \"minutes\" suffix and converted them to a numeric type:"
   ]
  },
  {
   "cell_type": "code",
   "execution_count": 17,
   "metadata": {},
   "outputs": [
    {
     "name": "stdout",
     "output_type": "stream",
     "text": [
      "Binary and categorial columns: ['C', 'user_type', 'internet_browser', 'A', 'Weekend', 'Month']\n",
      "Numerical columns: ['num_of_admin_pages', 'admin_page_duration', 'num_of_info_pages', 'info_page_duration', 'num_of_product_pages', 'product_page_duration', 'total_duration', 'BounceRates', 'ExitRates', 'PageValues', 'closeness_to_holiday', 'device', 'Region', 'B', 'D']\n"
     ]
    }
   ],
   "source": [
    "# handling columns with 'minutes' suffix\n",
    "cols_to_change = [\"info_page_duration\", \"product_page_duration\"]\n",
    "for col in cols_to_change:\n",
    "    X_train[col] = change_coloumn(X_train, col, \" \", 0)\n",
    "    X_train[col] = X_train[col].astype(float)\n",
    "\n",
    "\n",
    "all_cols = X_train.columns \n",
    "numeric = list(X_train.select_dtypes(include=[np.number]).columns)\n",
    "non_numeric = list(set(all_cols) - set(numeric))\n",
    "print(f\"Binary and categorial columns: {non_numeric}\")\n",
    "print(f\"Numerical columns: {numeric}\")"
   ]
  },
  {
   "cell_type": "markdown",
   "metadata": {},
   "source": [
    "We examined whether the column “total_duration” (when it’s not null) is the sum of other 'duration' columns('admin_page_duration', 'info_page_duration', 'product_page_duration'):"
   ]
  },
  {
   "cell_type": "code",
   "execution_count": 18,
   "metadata": {},
   "outputs": [
    {
     "name": "stdout",
     "output_type": "stream",
     "text": [
      "precentage of total_duration which is not null and the value it's the sum of other duration columns: 66.10540126831401%\n"
     ]
    }
   ],
   "source": [
    "cols_duration = [x for x in X_train.columns if x.endswith('_duration') and not x.startswith('total') ]\n",
    "indices = ~X_train[\"total_duration\"].isna()\n",
    "true_sum =(X_train[cols_duration][indices].sum(axis=1) == X_train[\"total_duration\"][indices])\n",
    "prec = true_sum[true_sum].shape[0]/true_sum.shape[0]\n",
    "a = (X_train[cols_duration][indices].sum(axis=1))-X_train[\"total_duration\"][indices]\n",
    "print(f\"precentage of total_duration which is not null and the value it's the sum of other duration columns: {prec*100}%\")"
   ]
  },
  {
   "cell_type": "markdown",
   "metadata": {},
   "source": [
    "In our opinion, it’s not a high percentage. Therefore, we choose not to fill null values with the sum of other duration columns."
   ]
  },
  {
   "cell_type": "markdown",
   "metadata": {},
   "source": [
    "We assumed that Region and device are categorical features so we updated their column type accordingly."
   ]
  },
  {
   "cell_type": "code",
   "execution_count": 19,
   "metadata": {},
   "outputs": [
    {
     "name": "stdout",
     "output_type": "stream",
     "text": [
      "Binary and categorial columns: ['C', 'user_type', 'internet_browser', 'A', 'Weekend', 'Month', 'device', 'Region']\n",
      "Numerical columns: ['num_of_admin_pages', 'admin_page_duration', 'num_of_info_pages', 'info_page_duration', 'num_of_product_pages', 'product_page_duration', 'total_duration', 'BounceRates', 'ExitRates', 'PageValues', 'closeness_to_holiday', 'B', 'D']\n"
     ]
    }
   ],
   "source": [
    "for x in [\"device\", \"Region\"]:\n",
    "    numeric.remove(x)\n",
    "    non_numeric.append(x)\n",
    "    X_train[x] = X_train[x].astype(object)\n",
    "print(f\"Binary and categorial columns: {non_numeric}\")\n",
    "print(f\"Numerical columns: {numeric}\")"
   ]
  },
  {
   "cell_type": "markdown",
   "metadata": {},
   "source": [
    "## Binary and categorial columns"
   ]
  },
  {
   "cell_type": "code",
   "execution_count": 20,
   "metadata": {
    "scrolled": true
   },
   "outputs": [
    {
     "data": {
      "text/html": [
       "<div>\n",
       "<style scoped>\n",
       "    .dataframe tbody tr th:only-of-type {\n",
       "        vertical-align: middle;\n",
       "    }\n",
       "\n",
       "    .dataframe tbody tr th {\n",
       "        vertical-align: top;\n",
       "    }\n",
       "\n",
       "    .dataframe thead th {\n",
       "        text-align: right;\n",
       "    }\n",
       "</style>\n",
       "<table border=\"1\" class=\"dataframe\">\n",
       "  <thead>\n",
       "    <tr style=\"text-align: right;\">\n",
       "      <th></th>\n",
       "      <th>Month</th>\n",
       "      <th>device</th>\n",
       "      <th>internet_browser</th>\n",
       "      <th>Region</th>\n",
       "      <th>user_type</th>\n",
       "      <th>Weekend</th>\n",
       "      <th>A</th>\n",
       "      <th>C</th>\n",
       "    </tr>\n",
       "  </thead>\n",
       "  <tbody>\n",
       "    <tr>\n",
       "      <th>count</th>\n",
       "      <td>8361</td>\n",
       "      <td>8113.0</td>\n",
       "      <td>7921</td>\n",
       "      <td>8367.0</td>\n",
       "      <td>8366</td>\n",
       "      <td>8368</td>\n",
       "      <td>7814</td>\n",
       "      <td>8367</td>\n",
       "    </tr>\n",
       "    <tr>\n",
       "      <th>unique</th>\n",
       "      <td>10</td>\n",
       "      <td>8.0</td>\n",
       "      <td>125</td>\n",
       "      <td>9.0</td>\n",
       "      <td>3</td>\n",
       "      <td>2</td>\n",
       "      <td>91</td>\n",
       "      <td>6</td>\n",
       "    </tr>\n",
       "    <tr>\n",
       "      <th>top</th>\n",
       "      <td>May</td>\n",
       "      <td>2.0</td>\n",
       "      <td>chrome_99.1.3</td>\n",
       "      <td>1.0</td>\n",
       "      <td>Returning_Visitor</td>\n",
       "      <td>False</td>\n",
       "      <td>c_2</td>\n",
       "      <td>log200</td>\n",
       "    </tr>\n",
       "    <tr>\n",
       "      <th>freq</th>\n",
       "      <td>2283</td>\n",
       "      <td>4334.0</td>\n",
       "      <td>896</td>\n",
       "      <td>3269.0</td>\n",
       "      <td>7132</td>\n",
       "      <td>6466</td>\n",
       "      <td>2520</td>\n",
       "      <td>1447</td>\n",
       "    </tr>\n",
       "  </tbody>\n",
       "</table>\n",
       "</div>"
      ],
      "text/plain": [
       "       Month  device internet_browser  Region          user_type Weekend  \\\n",
       "count   8361  8113.0             7921  8367.0               8366    8368   \n",
       "unique    10     8.0              125     9.0                  3       2   \n",
       "top      May     2.0    chrome_99.1.3     1.0  Returning_Visitor   False   \n",
       "freq    2283  4334.0              896  3269.0               7132    6466   \n",
       "\n",
       "           A       C  \n",
       "count   7814    8367  \n",
       "unique    91       6  \n",
       "top      c_2  log200  \n",
       "freq    2520    1447  "
      ]
     },
     "execution_count": 20,
     "metadata": {},
     "output_type": "execute_result"
    }
   ],
   "source": [
    "X_train.describe(include=np.object)  "
   ]
  },
  {
   "cell_type": "code",
   "execution_count": 21,
   "metadata": {
    "scrolled": true
   },
   "outputs": [
    {
     "data": {
      "image/png": "[encoded data removed]",
      "text/plain": [
       "<Figure size 360x360 with 1 Axes>"
      ]
     },
     "metadata": {
      "needs_background": "light"
     },
     "output_type": "display_data"
    },
    {
     "name": "stdout",
     "output_type": "stream",
     "text": [
      "log200     1447\n",
      "log400     1413\n",
      "log8080    1400\n",
      "log_100    1391\n",
      "log404     1388\n",
      "log202     1328\n",
      "NaN          16\n",
      "Name: C, dtype: int64\n"
     ]
    },
    {
     "data": {
      "image/png": "[encoded data removed]",
      "text/plain": [
       "<Figure size 360x360 with 1 Axes>"
      ]
     },
     "metadata": {
      "needs_background": "light"
     },
     "output_type": "display_data"
    },
    {
     "name": "stdout",
     "output_type": "stream",
     "text": [
      "Returning_Visitor    7132\n",
      "New_Visitor          1170\n",
      "Other                  64\n",
      "NaN                    17\n",
      "Name: user_type, dtype: int64\n"
     ]
    },
    {
     "data": {
      "image/png": "[encoded data removed]",
      "text/plain": [
       "<Figure size 360x360 with 1 Axes>"
      ]
     },
     "metadata": {
      "needs_background": "light"
     },
     "output_type": "display_data"
    },
    {
     "name": "stdout",
     "output_type": "stream",
     "text": [
      "chrome_99.1.3     896\n",
      "chrome_99.1.4     894\n",
      "chrome_89         889\n",
      "chrome_98.0.1     862\n",
      "chrome_80         805\n",
      "                 ... \n",
      "browser_12_v18      1\n",
      "browser_11_v17      1\n",
      "browser_13_v11      1\n",
      "browser_7_v8        1\n",
      "browser_12_v12      1\n",
      "Name: internet_browser, Length: 126, dtype: int64\n"
     ]
    },
    {
     "data": {
      "image/png": "[encoded data removed]",
      "text/plain": [
       "<Figure size 360x360 with 1 Axes>"
      ]
     },
     "metadata": {
      "needs_background": "light"
     },
     "output_type": "display_data"
    },
    {
     "name": "stdout",
     "output_type": "stream",
     "text": [
      "c_2        2520\n",
      "c_1        1490\n",
      "c_3        1314\n",
      "c_4         694\n",
      "NaN         569\n",
      "           ... \n",
      "c_20_72       1\n",
      "c_20_53       1\n",
      "c_20_95       1\n",
      "c_20_92       1\n",
      "c_20_43       1\n",
      "Name: A, Length: 92, dtype: int64\n"
     ]
    },
    {
     "data": {
      "image/png": "[encoded data removed]",
      "text/plain": [
       "<Figure size 360x360 with 1 Axes>"
      ]
     },
     "metadata": {
      "needs_background": "light"
     },
     "output_type": "display_data"
    },
    {
     "name": "stdout",
     "output_type": "stream",
     "text": [
      "False    6466\n",
      "True     1902\n",
      "NaN        15\n",
      "Name: Weekend, dtype: int64\n"
     ]
    },
    {
     "data": {
      "image/png": "[encoded data removed]",
      "text/plain": [
       "<Figure size 360x360 with 1 Axes>"
      ]
     },
     "metadata": {
      "needs_background": "light"
     },
     "output_type": "display_data"
    },
    {
     "name": "stdout",
     "output_type": "stream",
     "text": [
      "May     2283\n",
      "Nov     2055\n",
      "Mar     1278\n",
      "Dec     1148\n",
      "Oct      378\n",
      "Sep      307\n",
      "Aug      297\n",
      "Jul      289\n",
      "June     197\n",
      "Feb      129\n",
      "NaN       22\n",
      "Name: Month, dtype: int64\n"
     ]
    },
    {
     "data": {
      "image/png": "[encoded data removed]",
      "text/plain": [
       "<Figure size 360x360 with 1 Axes>"
      ]
     },
     "metadata": {
      "needs_background": "light"
     },
     "output_type": "display_data"
    },
    {
     "name": "stdout",
     "output_type": "stream",
     "text": [
      "2.0    4334\n",
      "3.0    1701\n",
      "1.0    1698\n",
      "4.0     302\n",
      "NaN     270\n",
      "8.0      56\n",
      "6.0      17\n",
      "5.0       3\n",
      "7.0       2\n",
      "Name: device, dtype: int64\n"
     ]
    },
    {
     "data": {
      "image/png": "[encoded data removed]",
      "text/plain": [
       "<Figure size 360x360 with 1 Axes>"
      ]
     },
     "metadata": {
      "needs_background": "light"
     },
     "output_type": "display_data"
    },
    {
     "name": "stdout",
     "output_type": "stream",
     "text": [
      "1.0    3269\n",
      "3.0    1638\n",
      "4.0     816\n",
      "2.0     737\n",
      "6.0     552\n",
      "7.0     509\n",
      "9.0     345\n",
      "8.0     282\n",
      "5.0     219\n",
      "NaN      16\n",
      "Name: Region, dtype: int64\n"
     ]
    }
   ],
   "source": [
    "for x in non_numeric:\n",
    "    sns.catplot(x=x, kind=\"count\", palette=\"ch:.50\", data=X_train)\n",
    "    plt.show()\n",
    "    print(X_train[x].value_counts(dropna=False))"
   ]
  },
  {
   "cell_type": "markdown",
   "metadata": {},
   "source": [
    "## Numerical columns"
   ]
  },
  {
   "cell_type": "code",
   "execution_count": 22,
   "metadata": {},
   "outputs": [
    {
     "data": {
      "text/plain": [
       "['num_of_admin_pages',\n",
       " 'admin_page_duration',\n",
       " 'num_of_info_pages',\n",
       " 'info_page_duration',\n",
       " 'num_of_product_pages',\n",
       " 'product_page_duration',\n",
       " 'total_duration',\n",
       " 'BounceRates',\n",
       " 'ExitRates',\n",
       " 'PageValues',\n",
       " 'closeness_to_holiday',\n",
       " 'B',\n",
       " 'D']"
      ]
     },
     "execution_count": 22,
     "metadata": {},
     "output_type": "execute_result"
    }
   ],
   "source": [
    "numeric\n"
   ]
  },
  {
   "cell_type": "code",
   "execution_count": 23,
   "metadata": {},
   "outputs": [
    {
     "data": {
      "text/html": [
       "<div>\n",
       "<style scoped>\n",
       "    .dataframe tbody tr th:only-of-type {\n",
       "        vertical-align: middle;\n",
       "    }\n",
       "\n",
       "    .dataframe tbody tr th {\n",
       "        vertical-align: top;\n",
       "    }\n",
       "\n",
       "    .dataframe thead th {\n",
       "        text-align: right;\n",
       "    }\n",
       "</style>\n",
       "<table border=\"1\" class=\"dataframe\">\n",
       "  <thead>\n",
       "    <tr style=\"text-align: right;\">\n",
       "      <th></th>\n",
       "      <th>num_of_admin_pages</th>\n",
       "      <th>admin_page_duration</th>\n",
       "      <th>num_of_info_pages</th>\n",
       "      <th>info_page_duration</th>\n",
       "      <th>num_of_product_pages</th>\n",
       "      <th>product_page_duration</th>\n",
       "      <th>total_duration</th>\n",
       "      <th>BounceRates</th>\n",
       "      <th>ExitRates</th>\n",
       "      <th>PageValues</th>\n",
       "      <th>closeness_to_holiday</th>\n",
       "      <th>B</th>\n",
       "      <th>D</th>\n",
       "    </tr>\n",
       "  </thead>\n",
       "  <tbody>\n",
       "    <tr>\n",
       "      <th>count</th>\n",
       "      <td>7911.000000</td>\n",
       "      <td>8059.000000</td>\n",
       "      <td>7815.000000</td>\n",
       "      <td>8132.000000</td>\n",
       "      <td>8065.000000</td>\n",
       "      <td>7894.000000</td>\n",
       "      <td>4573.000000</td>\n",
       "      <td>8367.000000</td>\n",
       "      <td>8361.000000</td>\n",
       "      <td>8365.000000</td>\n",
       "      <td>7987.000000</td>\n",
       "      <td>8369.000000</td>\n",
       "      <td>84.000000</td>\n",
       "    </tr>\n",
       "    <tr>\n",
       "      <th>mean</th>\n",
       "      <td>2.351409</td>\n",
       "      <td>81.066483</td>\n",
       "      <td>0.511708</td>\n",
       "      <td>34.847788</td>\n",
       "      <td>32.125604</td>\n",
       "      <td>1213.107090</td>\n",
       "      <td>1307.538702</td>\n",
       "      <td>0.022110</td>\n",
       "      <td>0.043079</td>\n",
       "      <td>6.012056</td>\n",
       "      <td>0.061825</td>\n",
       "      <td>99.712158</td>\n",
       "      <td>4.006586</td>\n",
       "    </tr>\n",
       "    <tr>\n",
       "      <th>std</th>\n",
       "      <td>3.359179</td>\n",
       "      <td>181.143843</td>\n",
       "      <td>1.283805</td>\n",
       "      <td>144.575294</td>\n",
       "      <td>45.347025</td>\n",
       "      <td>2012.101754</td>\n",
       "      <td>2072.979345</td>\n",
       "      <td>0.048447</td>\n",
       "      <td>0.048563</td>\n",
       "      <td>19.410617</td>\n",
       "      <td>0.198236</td>\n",
       "      <td>10.057833</td>\n",
       "      <td>2.237365</td>\n",
       "    </tr>\n",
       "    <tr>\n",
       "      <th>min</th>\n",
       "      <td>0.000000</td>\n",
       "      <td>0.000000</td>\n",
       "      <td>0.000000</td>\n",
       "      <td>0.000000</td>\n",
       "      <td>0.000000</td>\n",
       "      <td>0.000000</td>\n",
       "      <td>0.000000</td>\n",
       "      <td>0.000000</td>\n",
       "      <td>0.000000</td>\n",
       "      <td>0.000000</td>\n",
       "      <td>0.000000</td>\n",
       "      <td>60.733919</td>\n",
       "      <td>-1.235571</td>\n",
       "    </tr>\n",
       "    <tr>\n",
       "      <th>25%</th>\n",
       "      <td>0.000000</td>\n",
       "      <td>0.000000</td>\n",
       "      <td>0.000000</td>\n",
       "      <td>0.000000</td>\n",
       "      <td>7.000000</td>\n",
       "      <td>186.550000</td>\n",
       "      <td>221.500000</td>\n",
       "      <td>0.000000</td>\n",
       "      <td>0.014286</td>\n",
       "      <td>0.000000</td>\n",
       "      <td>0.000000</td>\n",
       "      <td>93.031643</td>\n",
       "      <td>3.241631</td>\n",
       "    </tr>\n",
       "    <tr>\n",
       "      <th>50%</th>\n",
       "      <td>1.000000</td>\n",
       "      <td>8.000000</td>\n",
       "      <td>0.000000</td>\n",
       "      <td>0.000000</td>\n",
       "      <td>18.000000</td>\n",
       "      <td>608.858333</td>\n",
       "      <td>681.833333</td>\n",
       "      <td>0.003093</td>\n",
       "      <td>0.025292</td>\n",
       "      <td>0.000000</td>\n",
       "      <td>0.000000</td>\n",
       "      <td>99.727150</td>\n",
       "      <td>4.442277</td>\n",
       "    </tr>\n",
       "    <tr>\n",
       "      <th>75%</th>\n",
       "      <td>4.000000</td>\n",
       "      <td>94.000000</td>\n",
       "      <td>0.000000</td>\n",
       "      <td>0.000000</td>\n",
       "      <td>38.000000</td>\n",
       "      <td>1480.997916</td>\n",
       "      <td>1615.757576</td>\n",
       "      <td>0.016667</td>\n",
       "      <td>0.050000</td>\n",
       "      <td>0.000000</td>\n",
       "      <td>0.000000</td>\n",
       "      <td>106.506599</td>\n",
       "      <td>5.522205</td>\n",
       "    </tr>\n",
       "    <tr>\n",
       "      <th>max</th>\n",
       "      <td>24.000000</td>\n",
       "      <td>3398.750000</td>\n",
       "      <td>24.000000</td>\n",
       "      <td>2549.375000</td>\n",
       "      <td>705.000000</td>\n",
       "      <td>63973.522230</td>\n",
       "      <td>47850.920680</td>\n",
       "      <td>0.200000</td>\n",
       "      <td>0.200000</td>\n",
       "      <td>361.763742</td>\n",
       "      <td>1.000000</td>\n",
       "      <td>136.053396</td>\n",
       "      <td>7.618254</td>\n",
       "    </tr>\n",
       "  </tbody>\n",
       "</table>\n",
       "</div>"
      ],
      "text/plain": [
       "       num_of_admin_pages  admin_page_duration  num_of_info_pages  \\\n",
       "count         7911.000000          8059.000000        7815.000000   \n",
       "mean             2.351409            81.066483           0.511708   \n",
       "std              3.359179           181.143843           1.283805   \n",
       "min              0.000000             0.000000           0.000000   \n",
       "25%              0.000000             0.000000           0.000000   \n",
       "50%              1.000000             8.000000           0.000000   \n",
       "75%              4.000000            94.000000           0.000000   \n",
       "max             24.000000          3398.750000          24.000000   \n",
       "\n",
       "       info_page_duration  num_of_product_pages  product_page_duration  \\\n",
       "count         8132.000000           8065.000000            7894.000000   \n",
       "mean            34.847788             32.125604            1213.107090   \n",
       "std            144.575294             45.347025            2012.101754   \n",
       "min              0.000000              0.000000               0.000000   \n",
       "25%              0.000000              7.000000             186.550000   \n",
       "50%              0.000000             18.000000             608.858333   \n",
       "75%              0.000000             38.000000            1480.997916   \n",
       "max           2549.375000            705.000000           63973.522230   \n",
       "\n",
       "       total_duration  BounceRates    ExitRates   PageValues  \\\n",
       "count     4573.000000  8367.000000  8361.000000  8365.000000   \n",
       "mean      1307.538702     0.022110     0.043079     6.012056   \n",
       "std       2072.979345     0.048447     0.048563    19.410617   \n",
       "min          0.000000     0.000000     0.000000     0.000000   \n",
       "25%        221.500000     0.000000     0.014286     0.000000   \n",
       "50%        681.833333     0.003093     0.025292     0.000000   \n",
       "75%       1615.757576     0.016667     0.050000     0.000000   \n",
       "max      47850.920680     0.200000     0.200000   361.763742   \n",
       "\n",
       "       closeness_to_holiday            B          D  \n",
       "count           7987.000000  8369.000000  84.000000  \n",
       "mean               0.061825    99.712158   4.006586  \n",
       "std                0.198236    10.057833   2.237365  \n",
       "min                0.000000    60.733919  -1.235571  \n",
       "25%                0.000000    93.031643   3.241631  \n",
       "50%                0.000000    99.727150   4.442277  \n",
       "75%                0.000000   106.506599   5.522205  \n",
       "max                1.000000   136.053396   7.618254  "
      ]
     },
     "execution_count": 23,
     "metadata": {},
     "output_type": "execute_result"
    }
   ],
   "source": [
    "X_train[numeric].describe()"
   ]
  },
  {
   "cell_type": "markdown",
   "metadata": {},
   "source": [
    "We can see that there are differences between std and value's range for different features. We will normalize it later."
   ]
  },
  {
   "cell_type": "markdown",
   "metadata": {},
   "source": [
    "### Histograms"
   ]
  },
  {
   "cell_type": "code",
   "execution_count": 24,
   "metadata": {
    "scrolled": false
   },
   "outputs": [
    {
     "data": {
      "text/plain": [
       "array([[<AxesSubplot:title={'center':'num_of_admin_pages'}>,\n",
       "        <AxesSubplot:title={'center':'admin_page_duration'}>,\n",
       "        <AxesSubplot:title={'center':'num_of_info_pages'}>,\n",
       "        <AxesSubplot:title={'center':'info_page_duration'}>],\n",
       "       [<AxesSubplot:title={'center':'num_of_product_pages'}>,\n",
       "        <AxesSubplot:title={'center':'product_page_duration'}>,\n",
       "        <AxesSubplot:title={'center':'total_duration'}>,\n",
       "        <AxesSubplot:title={'center':'BounceRates'}>],\n",
       "       [<AxesSubplot:title={'center':'ExitRates'}>,\n",
       "        <AxesSubplot:title={'center':'PageValues'}>,\n",
       "        <AxesSubplot:title={'center':'closeness_to_holiday'}>,\n",
       "        <AxesSubplot:title={'center':'B'}>],\n",
       "       [<AxesSubplot:title={'center':'D'}>, <AxesSubplot:>,\n",
       "        <AxesSubplot:>, <AxesSubplot:>]], dtype=object)"
      ]
     },
     "execution_count": 24,
     "metadata": {},
     "output_type": "execute_result"
    },
    {
     "data": {
      "image/png": "[encoded data removed]",
      "text/plain": [
       "<Figure size 1440x720 with 16 Axes>"
      ]
     },
     "metadata": {
      "needs_background": "light"
     },
     "output_type": "display_data"
    }
   ],
   "source": [
    "\n",
    "X_train[numeric].hist(figsize=(20,10), bins = 70)\n"
   ]
  },
  {
   "cell_type": "markdown",
   "metadata": {},
   "source": [
    "We can see that only feature \"B\" distribute normally."
   ]
  },
  {
   "cell_type": "markdown",
   "metadata": {},
   "source": [
    "### Boxplots"
   ]
  },
  {
   "cell_type": "code",
   "execution_count": 25,
   "metadata": {},
   "outputs": [
    {
     "data": {
      "image/png": "[encoded data removed]",
      "text/plain": [
       "<Figure size 720x720 with 13 Axes>"
      ]
     },
     "metadata": {
      "needs_background": "light"
     },
     "output_type": "display_data"
    }
   ],
   "source": [
    "\n",
    "a = 4  \n",
    "b = 4 \n",
    "c = 1  # initialize plot counter\n",
    "\n",
    "fig = plt.figure(figsize=(10,10))\n",
    "\n",
    "for i in X_train[numeric].columns:\n",
    "    plt.subplot(a, b, c)\n",
    "    plt.xlabel(i)\n",
    "    sns.boxplot(X_train[i])\n",
    "    c = c + 1\n",
    "\n",
    "plt.tight_layout()\n",
    "plt.show()"
   ]
  },
  {
   "cell_type": "markdown",
   "metadata": {},
   "source": [
    "We can see the existence of different range of values for each feature and that there exceptional values that we will relate to them later."
   ]
  },
  {
   "cell_type": "markdown",
   "metadata": {},
   "source": [
    "### Correlation matrix"
   ]
  },
  {
   "cell_type": "code",
   "execution_count": 26,
   "metadata": {},
   "outputs": [
    {
     "name": "stdout",
     "output_type": "stream",
     "text": [
      "correlation matrix\n"
     ]
    },
    {
     "data": {
      "text/plain": [
       "<AxesSubplot:>"
      ]
     },
     "execution_count": 26,
     "metadata": {},
     "output_type": "execute_result"
    },
    {
     "data": {
      "image/png": "[encoded data removed]",
      "text/plain": [
       "<Figure size 432x288 with 2 Axes>"
      ]
     },
     "metadata": {
      "needs_background": "light"
     },
     "output_type": "display_data"
    }
   ],
   "source": [
    "print(\"correlation matrix\")\n",
    "corr = X_train[numeric].corr()\n",
    "sns.heatmap(corr)"
   ]
  },
  {
   "cell_type": "code",
   "execution_count": 27,
   "metadata": {},
   "outputs": [
    {
     "data": {
      "text/plain": [
       "total_duration         product_page_duration    0.994679\n",
       "ExitRates              BounceRates              0.912051\n",
       "total_duration         num_of_product_pages     0.874135\n",
       "product_page_duration  num_of_product_pages     0.855297\n",
       "info_page_duration     num_of_info_pages        0.628956\n",
       "admin_page_duration    num_of_admin_pages       0.589940\n",
       "dtype: float64"
      ]
     },
     "execution_count": 27,
     "metadata": {},
     "output_type": "execute_result"
    }
   ],
   "source": [
    "corr_mat = X_train[numeric].corr(method='pearson').abs()\n",
    "corr_mat = corr_mat[(corr_mat>0.55) & (corr_mat!=1)]\n",
    "  \n",
    "# Convert correlation matrix to 1-D Series and sort\n",
    "sorted_mat = corr_mat.unstack().sort_values(ascending=False).dropna()\n",
    "sorted_mat[::2]"
   ]
  },
  {
   "cell_type": "markdown",
   "metadata": {},
   "source": [
    "We focused on medium and high correlations (corr>0.55).<br>\n",
    "Total durarion has high corrlation with both 'product page duration' and 'num of product pages'. We may consider to drop 'total duration' column becuse we found earlier that total_duration has a lot of missing values.<br>\n",
    "Each 'type and duration of page' column is highly correlated with its equivalent 'type and number of pages' column. We may consider to either combine these columns or to drop one of them.<br>\n",
    "ExitRates and BonuceRates are highly correlated. We may consider to either combine these columns or to drop one of them."
   ]
  },
  {
   "cell_type": "markdown",
   "metadata": {},
   "source": [
    "# Part 2 - Preprocessing"
   ]
  },
  {
   "cell_type": "markdown",
   "metadata": {},
   "source": [
    "### Removing rows with missing data"
   ]
  },
  {
   "cell_type": "code",
   "execution_count": 28,
   "metadata": {},
   "outputs": [
    {
     "data": {
      "image/png": "[encoded data removed]",
      "text/plain": [
       "<Figure size 720x720 with 1 Axes>"
      ]
     },
     "metadata": {
      "needs_background": "light"
     },
     "output_type": "display_data"
    },
    {
     "name": "stdout",
     "output_type": "stream",
     "text": [
      "8        1\n",
      "9        6\n",
      "10      10\n",
      "11       9\n",
      "12      10\n",
      "13       3\n",
      "14       2\n",
      "15       2\n",
      "16      40\n",
      "17     297\n",
      "18    1431\n",
      "19    3733\n",
      "20    2812\n",
      "21      27\n",
      "dtype: int64\n"
     ]
    }
   ],
   "source": [
    "feature_count = X_train.shape[1] - X_train.isnull().sum(axis=1)\n",
    "samples = feature_count.value_counts().sort_index()\n",
    "samples.plot.barh(x=samples.keys() ,y=samples.values, figsize=(10,10))\n",
    "plt.show()\n",
    "print(samples)"
   ]
  },
  {
   "cell_type": "code",
   "execution_count": 29,
   "metadata": {},
   "outputs": [
    {
     "name": "stdout",
     "output_type": "stream",
     "text": [
      "In the train, only 83 samples of total 8383 (0.9900990099009901%) have 16 features or less (out of 21). We decided to remove this samples.\n"
     ]
    }
   ],
   "source": [
    "less_17_features = feature_count.values<17\n",
    "less_17_features_sum =less_17_features.sum()\n",
    "features_17 = feature_count.values == 17\n",
    "features_17_sum = features_17.sum()\n",
    "pre_less_17 = less_17_features_sum/X_train.shape[0] *100\n",
    "print(f\"In the train, only {less_17_features_sum} samples of total {X_train.shape[0]} ({pre_less_17}%) have 16 features or less (out of {X_train.shape[1]}). We decided to remove this samples.\")\n",
    "\n"
   ]
  },
  {
   "cell_type": "code",
   "execution_count": 30,
   "metadata": {},
   "outputs": [],
   "source": [
    "# remove rows which have less 17 features\n",
    "to_remove = np.where(less_17_features)\n",
    "X_train, y_train = remove_row(X_train, y_train, to_remove[0])\n"
   ]
  },
  {
   "cell_type": "code",
   "execution_count": 31,
   "metadata": {},
   "outputs": [
    {
     "name": "stdout",
     "output_type": "stream",
     "text": [
      "0\n"
     ]
    }
   ],
   "source": [
    "# to validate that we removed all necessary rows (should return 0)\n",
    "feature_count = X_train.shape[1] - X_train.isnull().sum(axis=1)\n",
    "less_17_features = feature_count.values<17\n",
    "less_17_features_sum =less_17_features.sum()\n",
    "print(less_17_features_sum)"
   ]
  },
  {
   "cell_type": "markdown",
   "metadata": {},
   "source": [
    "### Outlier removal"
   ]
  },
  {
   "cell_type": "code",
   "execution_count": 32,
   "metadata": {},
   "outputs": [
    {
     "data": {
      "image/png": "[encoded data removed]",
      "text/plain": [
       "<Figure size 648x648 with 1 Axes>"
      ]
     },
     "metadata": {
      "needs_background": "light"
     },
     "output_type": "display_data"
    }
   ],
   "source": [
    "X_train['B'].plot(kind='box', figsize=(9, 9))\n",
    "plt.show()"
   ]
  },
  {
   "cell_type": "markdown",
   "metadata": {},
   "source": [
    "As we saw earlier, only column B distribute nornally, We tried to identify outliers in column B with Interquartile Range (IQR):"
   ]
  },
  {
   "cell_type": "code",
   "execution_count": 33,
   "metadata": {},
   "outputs": [
    {
     "name": "stdout",
     "output_type": "stream",
     "text": [
      "Nunber of samples which are oulier according to feature B: 58\n"
     ]
    }
   ],
   "source": [
    "\n",
    "Q1 = X_train[\"B\"].quantile(0.25)\n",
    "Q3 = X_train[\"B\"].quantile(0.75)\n",
    "IQR = Q3 - Q1\n",
    "B_outlier = (X_train[\"B\"] < (Q1 - 1.5 * IQR)) |(X_train[\"B\"] > (Q3 + 1.5 * IQR))\n",
    "print(f\"Nunber of samples which are oulier according to feature B: {B_outlier.sum()}\")"
   ]
  },
  {
   "cell_type": "code",
   "execution_count": 34,
   "metadata": {},
   "outputs": [],
   "source": [
    "#remove outlier samples in feature B\n",
    "to_remove = np.where(B_outlier)\n",
    "X_train, y_train = remove_row(X_train, y_train, to_remove[0])\n"
   ]
  },
  {
   "cell_type": "code",
   "execution_count": 35,
   "metadata": {},
   "outputs": [
    {
     "data": {
      "text/plain": [
       "0"
      ]
     },
     "execution_count": 35,
     "metadata": {},
     "output_type": "execute_result"
    }
   ],
   "source": [
    "#validate we removed all the required outliers (should return 0)\n",
    "B_outlier = (X_train[\"B\"] < (Q1 - 1.5 * IQR)) |(X_train[\"B\"] > (Q3 + 1.5 * IQR))\n",
    "B_outlier.sum()"
   ]
  },
  {
   "cell_type": "code",
   "execution_count": 36,
   "metadata": {},
   "outputs": [
    {
     "data": {
      "image/png": "[encoded data removed]",
      "text/plain": [
       "<Figure size 648x648 with 1 Axes>"
      ]
     },
     "metadata": {
      "needs_background": "light"
     },
     "output_type": "display_data"
    }
   ],
   "source": [
    "X_train[\"B\"].plot(kind='box', figsize=(9, 9))\n",
    "plt.show()"
   ]
  },
  {
   "cell_type": "markdown",
   "metadata": {},
   "source": [
    "### Removing column D"
   ]
  },
  {
   "cell_type": "markdown",
   "metadata": {},
   "source": [
    "As we saw in previous, most of the values of column D are missing. We will remove that column."
   ]
  },
  {
   "cell_type": "code",
   "execution_count": 37,
   "metadata": {},
   "outputs": [
    {
     "data": {
      "text/html": [
       "<div>\n",
       "<style scoped>\n",
       "    .dataframe tbody tr th:only-of-type {\n",
       "        vertical-align: middle;\n",
       "    }\n",
       "\n",
       "    .dataframe tbody tr th {\n",
       "        vertical-align: top;\n",
       "    }\n",
       "\n",
       "    .dataframe thead th {\n",
       "        text-align: right;\n",
       "    }\n",
       "</style>\n",
       "<table border=\"1\" class=\"dataframe\">\n",
       "  <thead>\n",
       "    <tr style=\"text-align: right;\">\n",
       "      <th></th>\n",
       "      <th>num_of_admin_pages</th>\n",
       "      <th>admin_page_duration</th>\n",
       "      <th>num_of_info_pages</th>\n",
       "      <th>info_page_duration</th>\n",
       "      <th>num_of_product_pages</th>\n",
       "      <th>product_page_duration</th>\n",
       "      <th>total_duration</th>\n",
       "      <th>BounceRates</th>\n",
       "      <th>ExitRates</th>\n",
       "      <th>PageValues</th>\n",
       "      <th>closeness_to_holiday</th>\n",
       "      <th>Month</th>\n",
       "      <th>device</th>\n",
       "      <th>internet_browser</th>\n",
       "      <th>Region</th>\n",
       "      <th>user_type</th>\n",
       "      <th>Weekend</th>\n",
       "      <th>A</th>\n",
       "      <th>B</th>\n",
       "      <th>C</th>\n",
       "    </tr>\n",
       "  </thead>\n",
       "  <tbody>\n",
       "    <tr>\n",
       "      <th>0</th>\n",
       "      <td>2.0</td>\n",
       "      <td>18.00</td>\n",
       "      <td>NaN</td>\n",
       "      <td>0.0</td>\n",
       "      <td>30.0</td>\n",
       "      <td>474.500000</td>\n",
       "      <td>492.500000</td>\n",
       "      <td>0.000000</td>\n",
       "      <td>0.003226</td>\n",
       "      <td>0.000000</td>\n",
       "      <td>0.0</td>\n",
       "      <td>Mar</td>\n",
       "      <td>1</td>\n",
       "      <td>safari_14.1</td>\n",
       "      <td>3</td>\n",
       "      <td>Returning_Visitor</td>\n",
       "      <td>True</td>\n",
       "      <td>c_2</td>\n",
       "      <td>97.956342</td>\n",
       "      <td>log_100</td>\n",
       "    </tr>\n",
       "    <tr>\n",
       "      <th>1</th>\n",
       "      <td>2.0</td>\n",
       "      <td>54.00</td>\n",
       "      <td>0.0</td>\n",
       "      <td>0.0</td>\n",
       "      <td>11.0</td>\n",
       "      <td>220.966667</td>\n",
       "      <td>274.966667</td>\n",
       "      <td>0.020513</td>\n",
       "      <td>0.029487</td>\n",
       "      <td>0.000000</td>\n",
       "      <td>0.0</td>\n",
       "      <td>May</td>\n",
       "      <td>1</td>\n",
       "      <td>safari_14.1</td>\n",
       "      <td>4</td>\n",
       "      <td>Returning_Visitor</td>\n",
       "      <td>False</td>\n",
       "      <td>c_6</td>\n",
       "      <td>111.762295</td>\n",
       "      <td>log200</td>\n",
       "    </tr>\n",
       "    <tr>\n",
       "      <th>2</th>\n",
       "      <td>0.0</td>\n",
       "      <td>0.00</td>\n",
       "      <td>1.0</td>\n",
       "      <td>11.0</td>\n",
       "      <td>54.0</td>\n",
       "      <td>1299.196667</td>\n",
       "      <td>1310.196667</td>\n",
       "      <td>0.003636</td>\n",
       "      <td>0.022545</td>\n",
       "      <td>0.000000</td>\n",
       "      <td>0.0</td>\n",
       "      <td>Sep</td>\n",
       "      <td>1</td>\n",
       "      <td>safari_13.1</td>\n",
       "      <td>3</td>\n",
       "      <td>Returning_Visitor</td>\n",
       "      <td>True</td>\n",
       "      <td>c_2</td>\n",
       "      <td>101.429366</td>\n",
       "      <td>log_100</td>\n",
       "    </tr>\n",
       "    <tr>\n",
       "      <th>3</th>\n",
       "      <td>2.0</td>\n",
       "      <td>NaN</td>\n",
       "      <td>0.0</td>\n",
       "      <td>0.0</td>\n",
       "      <td>16.0</td>\n",
       "      <td>346.386667</td>\n",
       "      <td>NaN</td>\n",
       "      <td>0.000000</td>\n",
       "      <td>0.029412</td>\n",
       "      <td>0.000000</td>\n",
       "      <td>0.0</td>\n",
       "      <td>Jul</td>\n",
       "      <td>3</td>\n",
       "      <td>chrome_90.1.7</td>\n",
       "      <td>3</td>\n",
       "      <td>Returning_Visitor</td>\n",
       "      <td>False</td>\n",
       "      <td>c_4</td>\n",
       "      <td>99.304262</td>\n",
       "      <td>log404</td>\n",
       "    </tr>\n",
       "    <tr>\n",
       "      <th>4</th>\n",
       "      <td>0.0</td>\n",
       "      <td>0.00</td>\n",
       "      <td>0.0</td>\n",
       "      <td>0.0</td>\n",
       "      <td>9.0</td>\n",
       "      <td>166.120000</td>\n",
       "      <td>166.120000</td>\n",
       "      <td>0.000000</td>\n",
       "      <td>0.022222</td>\n",
       "      <td>0.000000</td>\n",
       "      <td>0.0</td>\n",
       "      <td>Jul</td>\n",
       "      <td>2</td>\n",
       "      <td>chrome_99.1.4</td>\n",
       "      <td>1</td>\n",
       "      <td>Returning_Visitor</td>\n",
       "      <td>False</td>\n",
       "      <td>c_1</td>\n",
       "      <td>107.093749</td>\n",
       "      <td>log400</td>\n",
       "    </tr>\n",
       "    <tr>\n",
       "      <th>...</th>\n",
       "      <td>...</td>\n",
       "      <td>...</td>\n",
       "      <td>...</td>\n",
       "      <td>...</td>\n",
       "      <td>...</td>\n",
       "      <td>...</td>\n",
       "      <td>...</td>\n",
       "      <td>...</td>\n",
       "      <td>...</td>\n",
       "      <td>...</td>\n",
       "      <td>...</td>\n",
       "      <td>...</td>\n",
       "      <td>...</td>\n",
       "      <td>...</td>\n",
       "      <td>...</td>\n",
       "      <td>...</td>\n",
       "      <td>...</td>\n",
       "      <td>...</td>\n",
       "      <td>...</td>\n",
       "      <td>...</td>\n",
       "    </tr>\n",
       "    <tr>\n",
       "      <th>8237</th>\n",
       "      <td>10.0</td>\n",
       "      <td>519.00</td>\n",
       "      <td>0.0</td>\n",
       "      <td>0.0</td>\n",
       "      <td>89.0</td>\n",
       "      <td>2577.960349</td>\n",
       "      <td>NaN</td>\n",
       "      <td>0.012852</td>\n",
       "      <td>0.037291</td>\n",
       "      <td>0.000000</td>\n",
       "      <td>0.0</td>\n",
       "      <td>Jul</td>\n",
       "      <td>NaN</td>\n",
       "      <td>chrome_98.0.1</td>\n",
       "      <td>7</td>\n",
       "      <td>Returning_Visitor</td>\n",
       "      <td>False</td>\n",
       "      <td>c_1</td>\n",
       "      <td>102.585479</td>\n",
       "      <td>log200</td>\n",
       "    </tr>\n",
       "    <tr>\n",
       "      <th>8238</th>\n",
       "      <td>2.0</td>\n",
       "      <td>9.00</td>\n",
       "      <td>0.0</td>\n",
       "      <td>0.0</td>\n",
       "      <td>18.0</td>\n",
       "      <td>558.193333</td>\n",
       "      <td>NaN</td>\n",
       "      <td>0.000000</td>\n",
       "      <td>0.011111</td>\n",
       "      <td>0.000000</td>\n",
       "      <td>0.0</td>\n",
       "      <td>Aug</td>\n",
       "      <td>2</td>\n",
       "      <td>chrome_80</td>\n",
       "      <td>3</td>\n",
       "      <td>Returning_Visitor</td>\n",
       "      <td>False</td>\n",
       "      <td>c_1</td>\n",
       "      <td>86.700449</td>\n",
       "      <td>log202</td>\n",
       "    </tr>\n",
       "    <tr>\n",
       "      <th>8239</th>\n",
       "      <td>7.0</td>\n",
       "      <td>61.08</td>\n",
       "      <td>0.0</td>\n",
       "      <td>0.0</td>\n",
       "      <td>39.0</td>\n",
       "      <td>1324.850000</td>\n",
       "      <td>NaN</td>\n",
       "      <td>0.000000</td>\n",
       "      <td>0.016279</td>\n",
       "      <td>0.000000</td>\n",
       "      <td>0.0</td>\n",
       "      <td>Oct</td>\n",
       "      <td>2</td>\n",
       "      <td>chrome_99.1.3</td>\n",
       "      <td>1</td>\n",
       "      <td>Returning_Visitor</td>\n",
       "      <td>False</td>\n",
       "      <td>c_4</td>\n",
       "      <td>78.520357</td>\n",
       "      <td>log202</td>\n",
       "    </tr>\n",
       "    <tr>\n",
       "      <th>8240</th>\n",
       "      <td>0.0</td>\n",
       "      <td>0.00</td>\n",
       "      <td>0.0</td>\n",
       "      <td>0.0</td>\n",
       "      <td>8.0</td>\n",
       "      <td>111.666667</td>\n",
       "      <td>111.666667</td>\n",
       "      <td>0.000000</td>\n",
       "      <td>0.025000</td>\n",
       "      <td>0.000000</td>\n",
       "      <td>0.0</td>\n",
       "      <td>Mar</td>\n",
       "      <td>2</td>\n",
       "      <td>chrome_89</td>\n",
       "      <td>1</td>\n",
       "      <td>Returning_Visitor</td>\n",
       "      <td>False</td>\n",
       "      <td>c_1</td>\n",
       "      <td>100.097249</td>\n",
       "      <td>log200</td>\n",
       "    </tr>\n",
       "    <tr>\n",
       "      <th>8241</th>\n",
       "      <td>NaN</td>\n",
       "      <td>0.00</td>\n",
       "      <td>0.0</td>\n",
       "      <td>0.0</td>\n",
       "      <td>72.0</td>\n",
       "      <td>2304.150000</td>\n",
       "      <td>NaN</td>\n",
       "      <td>0.008451</td>\n",
       "      <td>0.020355</td>\n",
       "      <td>3.178183</td>\n",
       "      <td>0.0</td>\n",
       "      <td>Nov</td>\n",
       "      <td>3</td>\n",
       "      <td>chrome_90.1.7</td>\n",
       "      <td>1</td>\n",
       "      <td>Returning_Visitor</td>\n",
       "      <td>False</td>\n",
       "      <td>c_2</td>\n",
       "      <td>108.497646</td>\n",
       "      <td>log400</td>\n",
       "    </tr>\n",
       "  </tbody>\n",
       "</table>\n",
       "<p>8242 rows × 20 columns</p>\n",
       "</div>"
      ],
      "text/plain": [
       "      num_of_admin_pages  admin_page_duration  num_of_info_pages  \\\n",
       "0                    2.0                18.00                NaN   \n",
       "1                    2.0                54.00                0.0   \n",
       "2                    0.0                 0.00                1.0   \n",
       "3                    2.0                  NaN                0.0   \n",
       "4                    0.0                 0.00                0.0   \n",
       "...                  ...                  ...                ...   \n",
       "8237                10.0               519.00                0.0   \n",
       "8238                 2.0                 9.00                0.0   \n",
       "8239                 7.0                61.08                0.0   \n",
       "8240                 0.0                 0.00                0.0   \n",
       "8241                 NaN                 0.00                0.0   \n",
       "\n",
       "      info_page_duration  num_of_product_pages  product_page_duration  \\\n",
       "0                    0.0                  30.0             474.500000   \n",
       "1                    0.0                  11.0             220.966667   \n",
       "2                   11.0                  54.0            1299.196667   \n",
       "3                    0.0                  16.0             346.386667   \n",
       "4                    0.0                   9.0             166.120000   \n",
       "...                  ...                   ...                    ...   \n",
       "8237                 0.0                  89.0            2577.960349   \n",
       "8238                 0.0                  18.0             558.193333   \n",
       "8239                 0.0                  39.0            1324.850000   \n",
       "8240                 0.0                   8.0             111.666667   \n",
       "8241                 0.0                  72.0            2304.150000   \n",
       "\n",
       "      total_duration  BounceRates  ExitRates  PageValues  \\\n",
       "0         492.500000     0.000000   0.003226    0.000000   \n",
       "1         274.966667     0.020513   0.029487    0.000000   \n",
       "2        1310.196667     0.003636   0.022545    0.000000   \n",
       "3                NaN     0.000000   0.029412    0.000000   \n",
       "4         166.120000     0.000000   0.022222    0.000000   \n",
       "...              ...          ...        ...         ...   \n",
       "8237             NaN     0.012852   0.037291    0.000000   \n",
       "8238             NaN     0.000000   0.011111    0.000000   \n",
       "8239             NaN     0.000000   0.016279    0.000000   \n",
       "8240      111.666667     0.000000   0.025000    0.000000   \n",
       "8241             NaN     0.008451   0.020355    3.178183   \n",
       "\n",
       "      closeness_to_holiday Month device internet_browser Region  \\\n",
       "0                      0.0   Mar      1      safari_14.1      3   \n",
       "1                      0.0   May      1      safari_14.1      4   \n",
       "2                      0.0   Sep      1      safari_13.1      3   \n",
       "3                      0.0   Jul      3    chrome_90.1.7      3   \n",
       "4                      0.0   Jul      2    chrome_99.1.4      1   \n",
       "...                    ...   ...    ...              ...    ...   \n",
       "8237                   0.0   Jul    NaN    chrome_98.0.1      7   \n",
       "8238                   0.0   Aug      2        chrome_80      3   \n",
       "8239                   0.0   Oct      2    chrome_99.1.3      1   \n",
       "8240                   0.0   Mar      2        chrome_89      1   \n",
       "8241                   0.0   Nov      3    chrome_90.1.7      1   \n",
       "\n",
       "              user_type Weekend    A           B        C  \n",
       "0     Returning_Visitor    True  c_2   97.956342  log_100  \n",
       "1     Returning_Visitor   False  c_6  111.762295   log200  \n",
       "2     Returning_Visitor    True  c_2  101.429366  log_100  \n",
       "3     Returning_Visitor   False  c_4   99.304262   log404  \n",
       "4     Returning_Visitor   False  c_1  107.093749   log400  \n",
       "...                 ...     ...  ...         ...      ...  \n",
       "8237  Returning_Visitor   False  c_1  102.585479   log200  \n",
       "8238  Returning_Visitor   False  c_1   86.700449   log202  \n",
       "8239  Returning_Visitor   False  c_4   78.520357   log202  \n",
       "8240  Returning_Visitor   False  c_1  100.097249   log200  \n",
       "8241  Returning_Visitor   False  c_2  108.497646   log400  \n",
       "\n",
       "[8242 rows x 20 columns]"
      ]
     },
     "execution_count": 37,
     "metadata": {},
     "output_type": "execute_result"
    }
   ],
   "source": [
    "X_train = remove_column(X_train, \"D\")\n",
    "X_train"
   ]
  },
  {
   "cell_type": "code",
   "execution_count": 38,
   "metadata": {},
   "outputs": [
    {
     "data": {
      "text/plain": [
       "['num_of_admin_pages',\n",
       " 'admin_page_duration',\n",
       " 'num_of_info_pages',\n",
       " 'info_page_duration',\n",
       " 'num_of_product_pages',\n",
       " 'product_page_duration',\n",
       " 'total_duration',\n",
       " 'BounceRates',\n",
       " 'ExitRates',\n",
       " 'PageValues',\n",
       " 'closeness_to_holiday',\n",
       " 'B']"
      ]
     },
     "execution_count": 38,
     "metadata": {},
     "output_type": "execute_result"
    }
   ],
   "source": [
    "numeric.remove(\"D\") #update the numric list that we removed feature D.\n",
    "numeric"
   ]
  },
  {
   "cell_type": "markdown",
   "metadata": {},
   "source": [
    "### Changing column internet_browser"
   ]
  },
  {
   "cell_type": "markdown",
   "metadata": {},
   "source": [
    "We saw that the 'internet_browser' column has a lot of unique values mainly because each browser has a lot of version options. We grouped the values by the name of the browser (ignoring version)."
   ]
  },
  {
   "cell_type": "code",
   "execution_count": 39,
   "metadata": {},
   "outputs": [
    {
     "data": {
      "text/plain": [
       "chrome     5067\n",
       "safari     1533\n",
       "browser     758\n",
       "edge        457\n",
       "Name: internet_browser, dtype: int64"
      ]
     },
     "execution_count": 39,
     "metadata": {},
     "output_type": "execute_result"
    }
   ],
   "source": [
    "X_train[\"internet_browser\"] = change_coloumn(X_train, \"internet_browser\", \"_\", 0)\n",
    "X_train[\"internet_browser\"].value_counts()"
   ]
  },
  {
   "cell_type": "markdown",
   "metadata": {},
   "source": [
    "### Changing column A"
   ]
  },
  {
   "cell_type": "code",
   "execution_count": 40,
   "metadata": {},
   "outputs": [
    {
     "name": "stdout",
     "output_type": "stream",
     "text": [
      "c_2        2489\n",
      "c_1        1472\n",
      "c_3        1297\n",
      "c_4         686\n",
      "c_13        471\n",
      "           ... \n",
      "c_20_72       1\n",
      "c_20_33       1\n",
      "c_20_75       1\n",
      "c_20_98       1\n",
      "c_20_89       1\n",
      "Name: A, Length: 90, dtype: int64\n"
     ]
    }
   ],
   "source": [
    "print(X_train[\"A\"].value_counts())"
   ]
  },
  {
   "cell_type": "markdown",
   "metadata": {},
   "source": [
    "We saw that column \"A\" has the prefix 'c' we decided to remove. We assumed the numeric value represent a version since \"A\" has a lot of unique values.\n",
    "We grouped by version number (and removed the prefix c)."
   ]
  },
  {
   "cell_type": "code",
   "execution_count": 41,
   "metadata": {},
   "outputs": [
    {
     "data": {
      "text/plain": [
       "2     2489\n",
       "1     1472\n",
       "3     1297\n",
       "4      686\n",
       "13     471\n",
       "6      262\n",
       "10     258\n",
       "8      215\n",
       "5      169\n",
       "11     157\n",
       "20     133\n",
       "7       28\n",
       "9       25\n",
       "15      25\n",
       "19      12\n",
       "14       7\n",
       "18       5\n",
       "16       3\n",
       "17       1\n",
       "Name: A, dtype: int64"
      ]
     },
     "execution_count": 41,
     "metadata": {},
     "output_type": "execute_result"
    }
   ],
   "source": [
    "X_train[\"A\"] = change_coloumn(X_train, \"A\", \"_\", 1)\n",
    "X_train[\"A\"].value_counts()\n"
   ]
  },
  {
   "cell_type": "code",
   "execution_count": 42,
   "metadata": {},
   "outputs": [
    {
     "name": "stdout",
     "output_type": "stream",
     "text": [
      "Now column A has only 19 unique values\n"
     ]
    }
   ],
   "source": [
    "num_A = X_train[\"A\"].value_counts().shape[0]\n",
    "print(f\"Now column A has only {num_A} unique values\")"
   ]
  },
  {
   "cell_type": "markdown",
   "metadata": {},
   "source": [
    "It can be seen that there is a high chance for our hypothesis to be correct: \"A\" has a lot of unique values mainly because they represent a lot of versions and sub-versions."
   ]
  },
  {
   "cell_type": "markdown",
   "metadata": {},
   "source": [
    "## Filling missing values"
   ]
  },
  {
   "cell_type": "markdown",
   "metadata": {},
   "source": [
    "### Categorical Features: \n",
    "Filling missing values by most frequent:"
   ]
  },
  {
   "cell_type": "code",
   "execution_count": 43,
   "metadata": {},
   "outputs": [
    {
     "name": "stdout",
     "output_type": "stream",
     "text": [
      "C                   0\n",
      "user_type           0\n",
      "internet_browser    0\n",
      "A                   0\n",
      "Weekend             0\n",
      "Month               0\n",
      "device              0\n",
      "Region              0\n",
      "dtype: int64\n"
     ]
    }
   ],
   "source": [
    "cat_most_freq_phase_0 = {}  #dictionary that saves most frequent value in every categorical column in train\n",
    "for col in non_numeric:\n",
    "    X_train = cat_filling_null(col, X_train, cat_most_freq_phase_0)\n",
    "#to validate that we removed all null values in categorical columns\n",
    "print(X_train[non_numeric].isnull().sum())\n"
   ]
  },
  {
   "cell_type": "markdown",
   "metadata": {},
   "source": [
    "### Numerical Features \n",
    "Filling missing values by mean for feature B because distributes normally and by median for the other numerical columns."
   ]
  },
  {
   "cell_type": "code",
   "execution_count": 44,
   "metadata": {},
   "outputs": [
    {
     "name": "stdout",
     "output_type": "stream",
     "text": [
      "num_of_admin_pages       0\n",
      "admin_page_duration      0\n",
      "num_of_info_pages        0\n",
      "info_page_duration       0\n",
      "num_of_product_pages     0\n",
      "product_page_duration    0\n",
      "total_duration           0\n",
      "BounceRates              0\n",
      "ExitRates                0\n",
      "PageValues               0\n",
      "closeness_to_holiday     0\n",
      "B                        0\n",
      "dtype: int64\n"
     ]
    }
   ],
   "source": [
    "num_mean_phase_0 = {}\n",
    "num_median_phase_0 = {}\n",
    "for col in numeric:\n",
    "    if col == \"B\":\n",
    "        X_train = num_filling_null_mean(col, X_train, num_mean_phase_0)\n",
    "    else:\n",
    "        X_train = num_filling_null_median(col, X_train, num_median_phase_0)\n",
    "\n",
    "#to validate that we removed all null values in categorical columns\n",
    "print(X_train[numeric].isnull().sum())"
   ]
  },
  {
   "cell_type": "markdown",
   "metadata": {},
   "source": [
    "### Change column \"Weekend\" from boolean string (True/False) to 1/0"
   ]
  },
  {
   "cell_type": "code",
   "execution_count": 45,
   "metadata": {},
   "outputs": [],
   "source": [
    "X_train = change_boolean(X_train, \"Weekend\")"
   ]
  },
  {
   "cell_type": "markdown",
   "metadata": {},
   "source": [
    "### Create dummy variables for categorical columns"
   ]
  },
  {
   "cell_type": "code",
   "execution_count": 46,
   "metadata": {},
   "outputs": [],
   "source": [
    "non_numeric_cat = non_numeric.copy()\n",
    "non_numeric_cat.remove(\"Weekend\")\n",
    "X_train = change_to_dummies(X_train, non_numeric_cat)"
   ]
  },
  {
   "cell_type": "code",
   "execution_count": 47,
   "metadata": {},
   "outputs": [
    {
     "data": {
      "text/plain": [
       "['C_log200',\n",
       " 'C_log202',\n",
       " 'C_log400',\n",
       " 'C_log404',\n",
       " 'C_log8080',\n",
       " 'C_log_100',\n",
       " 'user_type_New_Visitor',\n",
       " 'user_type_Other',\n",
       " 'user_type_Returning_Visitor',\n",
       " 'internet_browser_browser',\n",
       " 'internet_browser_chrome',\n",
       " 'internet_browser_edge',\n",
       " 'internet_browser_safari',\n",
       " 'A_1',\n",
       " 'A_10',\n",
       " 'A_11',\n",
       " 'A_13',\n",
       " 'A_14',\n",
       " 'A_15',\n",
       " 'A_16',\n",
       " 'A_17',\n",
       " 'A_18',\n",
       " 'A_19',\n",
       " 'A_2',\n",
       " 'A_20',\n",
       " 'A_3',\n",
       " 'A_4',\n",
       " 'A_5',\n",
       " 'A_6',\n",
       " 'A_7',\n",
       " 'A_8',\n",
       " 'A_9',\n",
       " 'Month_Aug',\n",
       " 'Month_Dec',\n",
       " 'Month_Feb',\n",
       " 'Month_Jul',\n",
       " 'Month_June',\n",
       " 'Month_Mar',\n",
       " 'Month_May',\n",
       " 'Month_Nov',\n",
       " 'Month_Oct',\n",
       " 'Month_Sep',\n",
       " 'device_1.0',\n",
       " 'device_2.0',\n",
       " 'device_3.0',\n",
       " 'device_4.0',\n",
       " 'device_5.0',\n",
       " 'device_6.0',\n",
       " 'device_7.0',\n",
       " 'device_8.0',\n",
       " 'Region_1.0',\n",
       " 'Region_2.0',\n",
       " 'Region_3.0',\n",
       " 'Region_4.0',\n",
       " 'Region_5.0',\n",
       " 'Region_6.0',\n",
       " 'Region_7.0',\n",
       " 'Region_8.0',\n",
       " 'Region_9.0']"
      ]
     },
     "execution_count": 47,
     "metadata": {},
     "output_type": "execute_result"
    }
   ],
   "source": [
    "non_numeric_with_dummies = [item for item in X_train.columns if item not in numeric and item not in non_numeric]\n",
    "non_numeric_with_dummies\n"
   ]
  },
  {
   "cell_type": "markdown",
   "metadata": {},
   "source": [
    "### Remove correlated features"
   ]
  },
  {
   "cell_type": "code",
   "execution_count": 48,
   "metadata": {},
   "outputs": [
    {
     "name": "stdout",
     "output_type": "stream",
     "text": [
      "correlation matrix\n"
     ]
    },
    {
     "data": {
      "text/plain": [
       "<AxesSubplot:>"
      ]
     },
     "execution_count": 48,
     "metadata": {},
     "output_type": "execute_result"
    },
    {
     "data": {
      "image/png": "[encoded data removed]",
      "text/plain": [
       "<Figure size 432x288 with 2 Axes>"
      ]
     },
     "metadata": {
      "needs_background": "light"
     },
     "output_type": "display_data"
    }
   ],
   "source": [
    "print(\"correlation matrix\")\n",
    "corr = X_train.corr()\n",
    "sns.heatmap(corr)"
   ]
  },
  {
   "cell_type": "code",
   "execution_count": 49,
   "metadata": {},
   "outputs": [
    {
     "data": {
      "text/plain": [
       "user_type_New_Visitor    user_type_Returning_Visitor    0.970351\n",
       "ExitRates                BounceRates                    0.911311\n",
       "num_of_product_pages     product_page_duration          0.821677\n",
       "device_1.0               internet_browser_safari        0.776018\n",
       "product_page_duration    total_duration                 0.682883\n",
       "device_8.0               user_type_Other                0.677282\n",
       "internet_browser_chrome  internet_browser_safari        0.675893\n",
       "total_duration           num_of_product_pages           0.629481\n",
       "info_page_duration       num_of_info_pages              0.588900\n",
       "admin_page_duration      num_of_admin_pages             0.564521\n",
       "device_3.0               device_2.0                     0.556983\n",
       "device_1.0               device_2.0                     0.555734\n",
       "dtype: float64"
      ]
     },
     "execution_count": 49,
     "metadata": {},
     "output_type": "execute_result"
    }
   ],
   "source": [
    "corr_mat = X_train.corr(method='pearson').abs()\n",
    "corr_mat = corr_mat[(corr_mat>0.55) & (corr_mat!=1)]\n",
    "  \n",
    "# Convert correlation matrix to 1-D Series and sort\n",
    "sorted_mat = corr_mat.unstack().sort_values(ascending=False).dropna()\n",
    "sorted_mat[::2]\n"
   ]
  },
  {
   "cell_type": "markdown",
   "metadata": {},
   "source": [
    "We focused on medium and high correlation (corr>0.55).\n",
    "- As we saw earlier, Total duration is highly correlated with 'product page duration' and 'num of the product pages'. For that reason, we chose to drop the column 'total duration' and also because it has a lot of missing values.\n",
    "- Each 'type of page' is highly correlated with his 'number of pages' and 'duration'. We will drop one of them. We randomly decided to delete the 'number of pages' column.\n",
    "- ExitRates and BonuceRates have a are highly correlated. We will combine these columns by making an averaging their values.\n",
    "- Any correlations between features having  the same origin column due to the creation of dummy variables (such as user type) are meaningless.\n",
    "- For some correlation it's hard to conclude. For example, 'device_1' and 'internet_browser_safari' are highly correlated but, not all types of devices and specific types of browsers correlate. In these cases we decided not to change the columns.\n",
    "\n",
    "\n"
   ]
  },
  {
   "cell_type": "code",
   "execution_count": 50,
   "metadata": {},
   "outputs": [],
   "source": [
    "numeric_updated = numeric.copy()\n",
    "col_to_combine = [\"ExitRates\", \"BounceRates\"]\n",
    "X_train[\"avg_rates\"] = X_train[col_to_combine].mean(axis = 1)\n",
    "numeric_updated.append(\"avg_rates\")\n"
   ]
  },
  {
   "cell_type": "code",
   "execution_count": 51,
   "metadata": {},
   "outputs": [],
   "source": [
    "col_to_drop = [\"num_of_product_pages\", \"num_of_info_pages\", \"num_of_admin_pages\", \"total_duration\", \"ExitRates\", \"BounceRates\"]\n",
    "X_train = remove_column(X_train, col_to_drop)\n"
   ]
  },
  {
   "cell_type": "code",
   "execution_count": 52,
   "metadata": {},
   "outputs": [],
   "source": [
    "for c in col_to_drop:\n",
    "    numeric_updated.remove(c)"
   ]
  },
  {
   "cell_type": "code",
   "execution_count": 53,
   "metadata": {},
   "outputs": [
    {
     "data": {
      "text/plain": [
       "['admin_page_duration',\n",
       " 'info_page_duration',\n",
       " 'product_page_duration',\n",
       " 'PageValues',\n",
       " 'closeness_to_holiday',\n",
       " 'B',\n",
       " 'avg_rates']"
      ]
     },
     "execution_count": 53,
     "metadata": {},
     "output_type": "execute_result"
    }
   ],
   "source": [
    "numeric_updated"
   ]
  },
  {
   "cell_type": "code",
   "execution_count": 54,
   "metadata": {},
   "outputs": [
    {
     "data": {
      "text/html": [
       "<div>\n",
       "<style scoped>\n",
       "    .dataframe tbody tr th:only-of-type {\n",
       "        vertical-align: middle;\n",
       "    }\n",
       "\n",
       "    .dataframe tbody tr th {\n",
       "        vertical-align: top;\n",
       "    }\n",
       "\n",
       "    .dataframe thead th {\n",
       "        text-align: right;\n",
       "    }\n",
       "</style>\n",
       "<table border=\"1\" class=\"dataframe\">\n",
       "  <thead>\n",
       "    <tr style=\"text-align: right;\">\n",
       "      <th></th>\n",
       "      <th>admin_page_duration</th>\n",
       "      <th>info_page_duration</th>\n",
       "      <th>product_page_duration</th>\n",
       "      <th>PageValues</th>\n",
       "      <th>closeness_to_holiday</th>\n",
       "      <th>Weekend</th>\n",
       "      <th>B</th>\n",
       "      <th>C_log200</th>\n",
       "      <th>C_log202</th>\n",
       "      <th>C_log400</th>\n",
       "      <th>...</th>\n",
       "      <th>Region_1.0</th>\n",
       "      <th>Region_2.0</th>\n",
       "      <th>Region_3.0</th>\n",
       "      <th>Region_4.0</th>\n",
       "      <th>Region_5.0</th>\n",
       "      <th>Region_6.0</th>\n",
       "      <th>Region_7.0</th>\n",
       "      <th>Region_8.0</th>\n",
       "      <th>Region_9.0</th>\n",
       "      <th>avg_rates</th>\n",
       "    </tr>\n",
       "  </thead>\n",
       "  <tbody>\n",
       "    <tr>\n",
       "      <th>0</th>\n",
       "      <td>18.00</td>\n",
       "      <td>0.0</td>\n",
       "      <td>474.500000</td>\n",
       "      <td>0.000000</td>\n",
       "      <td>0.0</td>\n",
       "      <td>1</td>\n",
       "      <td>97.956342</td>\n",
       "      <td>0</td>\n",
       "      <td>0</td>\n",
       "      <td>0</td>\n",
       "      <td>...</td>\n",
       "      <td>0</td>\n",
       "      <td>0</td>\n",
       "      <td>1</td>\n",
       "      <td>0</td>\n",
       "      <td>0</td>\n",
       "      <td>0</td>\n",
       "      <td>0</td>\n",
       "      <td>0</td>\n",
       "      <td>0</td>\n",
       "      <td>0.001613</td>\n",
       "    </tr>\n",
       "    <tr>\n",
       "      <th>1</th>\n",
       "      <td>54.00</td>\n",
       "      <td>0.0</td>\n",
       "      <td>220.966667</td>\n",
       "      <td>0.000000</td>\n",
       "      <td>0.0</td>\n",
       "      <td>0</td>\n",
       "      <td>111.762295</td>\n",
       "      <td>1</td>\n",
       "      <td>0</td>\n",
       "      <td>0</td>\n",
       "      <td>...</td>\n",
       "      <td>0</td>\n",
       "      <td>0</td>\n",
       "      <td>0</td>\n",
       "      <td>1</td>\n",
       "      <td>0</td>\n",
       "      <td>0</td>\n",
       "      <td>0</td>\n",
       "      <td>0</td>\n",
       "      <td>0</td>\n",
       "      <td>0.025000</td>\n",
       "    </tr>\n",
       "    <tr>\n",
       "      <th>2</th>\n",
       "      <td>0.00</td>\n",
       "      <td>11.0</td>\n",
       "      <td>1299.196667</td>\n",
       "      <td>0.000000</td>\n",
       "      <td>0.0</td>\n",
       "      <td>1</td>\n",
       "      <td>101.429366</td>\n",
       "      <td>0</td>\n",
       "      <td>0</td>\n",
       "      <td>0</td>\n",
       "      <td>...</td>\n",
       "      <td>0</td>\n",
       "      <td>0</td>\n",
       "      <td>1</td>\n",
       "      <td>0</td>\n",
       "      <td>0</td>\n",
       "      <td>0</td>\n",
       "      <td>0</td>\n",
       "      <td>0</td>\n",
       "      <td>0</td>\n",
       "      <td>0.013091</td>\n",
       "    </tr>\n",
       "    <tr>\n",
       "      <th>3</th>\n",
       "      <td>8.00</td>\n",
       "      <td>0.0</td>\n",
       "      <td>346.386667</td>\n",
       "      <td>0.000000</td>\n",
       "      <td>0.0</td>\n",
       "      <td>0</td>\n",
       "      <td>99.304262</td>\n",
       "      <td>0</td>\n",
       "      <td>0</td>\n",
       "      <td>0</td>\n",
       "      <td>...</td>\n",
       "      <td>0</td>\n",
       "      <td>0</td>\n",
       "      <td>1</td>\n",
       "      <td>0</td>\n",
       "      <td>0</td>\n",
       "      <td>0</td>\n",
       "      <td>0</td>\n",
       "      <td>0</td>\n",
       "      <td>0</td>\n",
       "      <td>0.014706</td>\n",
       "    </tr>\n",
       "    <tr>\n",
       "      <th>4</th>\n",
       "      <td>0.00</td>\n",
       "      <td>0.0</td>\n",
       "      <td>166.120000</td>\n",
       "      <td>0.000000</td>\n",
       "      <td>0.0</td>\n",
       "      <td>0</td>\n",
       "      <td>107.093749</td>\n",
       "      <td>0</td>\n",
       "      <td>0</td>\n",
       "      <td>1</td>\n",
       "      <td>...</td>\n",
       "      <td>1</td>\n",
       "      <td>0</td>\n",
       "      <td>0</td>\n",
       "      <td>0</td>\n",
       "      <td>0</td>\n",
       "      <td>0</td>\n",
       "      <td>0</td>\n",
       "      <td>0</td>\n",
       "      <td>0</td>\n",
       "      <td>0.011111</td>\n",
       "    </tr>\n",
       "    <tr>\n",
       "      <th>...</th>\n",
       "      <td>...</td>\n",
       "      <td>...</td>\n",
       "      <td>...</td>\n",
       "      <td>...</td>\n",
       "      <td>...</td>\n",
       "      <td>...</td>\n",
       "      <td>...</td>\n",
       "      <td>...</td>\n",
       "      <td>...</td>\n",
       "      <td>...</td>\n",
       "      <td>...</td>\n",
       "      <td>...</td>\n",
       "      <td>...</td>\n",
       "      <td>...</td>\n",
       "      <td>...</td>\n",
       "      <td>...</td>\n",
       "      <td>...</td>\n",
       "      <td>...</td>\n",
       "      <td>...</td>\n",
       "      <td>...</td>\n",
       "      <td>...</td>\n",
       "    </tr>\n",
       "    <tr>\n",
       "      <th>8237</th>\n",
       "      <td>519.00</td>\n",
       "      <td>0.0</td>\n",
       "      <td>2577.960349</td>\n",
       "      <td>0.000000</td>\n",
       "      <td>0.0</td>\n",
       "      <td>0</td>\n",
       "      <td>102.585479</td>\n",
       "      <td>1</td>\n",
       "      <td>0</td>\n",
       "      <td>0</td>\n",
       "      <td>...</td>\n",
       "      <td>0</td>\n",
       "      <td>0</td>\n",
       "      <td>0</td>\n",
       "      <td>0</td>\n",
       "      <td>0</td>\n",
       "      <td>0</td>\n",
       "      <td>1</td>\n",
       "      <td>0</td>\n",
       "      <td>0</td>\n",
       "      <td>0.025071</td>\n",
       "    </tr>\n",
       "    <tr>\n",
       "      <th>8238</th>\n",
       "      <td>9.00</td>\n",
       "      <td>0.0</td>\n",
       "      <td>558.193333</td>\n",
       "      <td>0.000000</td>\n",
       "      <td>0.0</td>\n",
       "      <td>0</td>\n",
       "      <td>86.700449</td>\n",
       "      <td>0</td>\n",
       "      <td>1</td>\n",
       "      <td>0</td>\n",
       "      <td>...</td>\n",
       "      <td>0</td>\n",
       "      <td>0</td>\n",
       "      <td>1</td>\n",
       "      <td>0</td>\n",
       "      <td>0</td>\n",
       "      <td>0</td>\n",
       "      <td>0</td>\n",
       "      <td>0</td>\n",
       "      <td>0</td>\n",
       "      <td>0.005556</td>\n",
       "    </tr>\n",
       "    <tr>\n",
       "      <th>8239</th>\n",
       "      <td>61.08</td>\n",
       "      <td>0.0</td>\n",
       "      <td>1324.850000</td>\n",
       "      <td>0.000000</td>\n",
       "      <td>0.0</td>\n",
       "      <td>0</td>\n",
       "      <td>78.520357</td>\n",
       "      <td>0</td>\n",
       "      <td>1</td>\n",
       "      <td>0</td>\n",
       "      <td>...</td>\n",
       "      <td>1</td>\n",
       "      <td>0</td>\n",
       "      <td>0</td>\n",
       "      <td>0</td>\n",
       "      <td>0</td>\n",
       "      <td>0</td>\n",
       "      <td>0</td>\n",
       "      <td>0</td>\n",
       "      <td>0</td>\n",
       "      <td>0.008140</td>\n",
       "    </tr>\n",
       "    <tr>\n",
       "      <th>8240</th>\n",
       "      <td>0.00</td>\n",
       "      <td>0.0</td>\n",
       "      <td>111.666667</td>\n",
       "      <td>0.000000</td>\n",
       "      <td>0.0</td>\n",
       "      <td>0</td>\n",
       "      <td>100.097249</td>\n",
       "      <td>1</td>\n",
       "      <td>0</td>\n",
       "      <td>0</td>\n",
       "      <td>...</td>\n",
       "      <td>1</td>\n",
       "      <td>0</td>\n",
       "      <td>0</td>\n",
       "      <td>0</td>\n",
       "      <td>0</td>\n",
       "      <td>0</td>\n",
       "      <td>0</td>\n",
       "      <td>0</td>\n",
       "      <td>0</td>\n",
       "      <td>0.012500</td>\n",
       "    </tr>\n",
       "    <tr>\n",
       "      <th>8241</th>\n",
       "      <td>0.00</td>\n",
       "      <td>0.0</td>\n",
       "      <td>2304.150000</td>\n",
       "      <td>3.178183</td>\n",
       "      <td>0.0</td>\n",
       "      <td>0</td>\n",
       "      <td>108.497646</td>\n",
       "      <td>0</td>\n",
       "      <td>0</td>\n",
       "      <td>1</td>\n",
       "      <td>...</td>\n",
       "      <td>1</td>\n",
       "      <td>0</td>\n",
       "      <td>0</td>\n",
       "      <td>0</td>\n",
       "      <td>0</td>\n",
       "      <td>0</td>\n",
       "      <td>0</td>\n",
       "      <td>0</td>\n",
       "      <td>0</td>\n",
       "      <td>0.014403</td>\n",
       "    </tr>\n",
       "  </tbody>\n",
       "</table>\n",
       "<p>8242 rows × 67 columns</p>\n",
       "</div>"
      ],
      "text/plain": [
       "      admin_page_duration  info_page_duration  product_page_duration  \\\n",
       "0                   18.00                 0.0             474.500000   \n",
       "1                   54.00                 0.0             220.966667   \n",
       "2                    0.00                11.0            1299.196667   \n",
       "3                    8.00                 0.0             346.386667   \n",
       "4                    0.00                 0.0             166.120000   \n",
       "...                   ...                 ...                    ...   \n",
       "8237               519.00                 0.0            2577.960349   \n",
       "8238                 9.00                 0.0             558.193333   \n",
       "8239                61.08                 0.0            1324.850000   \n",
       "8240                 0.00                 0.0             111.666667   \n",
       "8241                 0.00                 0.0            2304.150000   \n",
       "\n",
       "      PageValues  closeness_to_holiday  Weekend           B  C_log200  \\\n",
       "0       0.000000                   0.0        1   97.956342         0   \n",
       "1       0.000000                   0.0        0  111.762295         1   \n",
       "2       0.000000                   0.0        1  101.429366         0   \n",
       "3       0.000000                   0.0        0   99.304262         0   \n",
       "4       0.000000                   0.0        0  107.093749         0   \n",
       "...          ...                   ...      ...         ...       ...   \n",
       "8237    0.000000                   0.0        0  102.585479         1   \n",
       "8238    0.000000                   0.0        0   86.700449         0   \n",
       "8239    0.000000                   0.0        0   78.520357         0   \n",
       "8240    0.000000                   0.0        0  100.097249         1   \n",
       "8241    3.178183                   0.0        0  108.497646         0   \n",
       "\n",
       "      C_log202  C_log400  ...  Region_1.0  Region_2.0  Region_3.0  Region_4.0  \\\n",
       "0            0         0  ...           0           0           1           0   \n",
       "1            0         0  ...           0           0           0           1   \n",
       "2            0         0  ...           0           0           1           0   \n",
       "3            0         0  ...           0           0           1           0   \n",
       "4            0         1  ...           1           0           0           0   \n",
       "...        ...       ...  ...         ...         ...         ...         ...   \n",
       "8237         0         0  ...           0           0           0           0   \n",
       "8238         1         0  ...           0           0           1           0   \n",
       "8239         1         0  ...           1           0           0           0   \n",
       "8240         0         0  ...           1           0           0           0   \n",
       "8241         0         1  ...           1           0           0           0   \n",
       "\n",
       "      Region_5.0  Region_6.0  Region_7.0  Region_8.0  Region_9.0  avg_rates  \n",
       "0              0           0           0           0           0   0.001613  \n",
       "1              0           0           0           0           0   0.025000  \n",
       "2              0           0           0           0           0   0.013091  \n",
       "3              0           0           0           0           0   0.014706  \n",
       "4              0           0           0           0           0   0.011111  \n",
       "...          ...         ...         ...         ...         ...        ...  \n",
       "8237           0           0           1           0           0   0.025071  \n",
       "8238           0           0           0           0           0   0.005556  \n",
       "8239           0           0           0           0           0   0.008140  \n",
       "8240           0           0           0           0           0   0.012500  \n",
       "8241           0           0           0           0           0   0.014403  \n",
       "\n",
       "[8242 rows x 67 columns]"
      ]
     },
     "execution_count": 54,
     "metadata": {},
     "output_type": "execute_result"
    }
   ],
   "source": [
    "X_train"
   ]
  },
  {
   "cell_type": "markdown",
   "metadata": {},
   "source": [
    "### Normalization"
   ]
  },
  {
   "cell_type": "markdown",
   "metadata": {},
   "source": [
    "Numerics before normalization:"
   ]
  },
  {
   "cell_type": "code",
   "execution_count": 55,
   "metadata": {},
   "outputs": [
    {
     "data": {
      "text/html": [
       "<div>\n",
       "<style scoped>\n",
       "    .dataframe tbody tr th:only-of-type {\n",
       "        vertical-align: middle;\n",
       "    }\n",
       "\n",
       "    .dataframe tbody tr th {\n",
       "        vertical-align: top;\n",
       "    }\n",
       "\n",
       "    .dataframe thead th {\n",
       "        text-align: right;\n",
       "    }\n",
       "</style>\n",
       "<table border=\"1\" class=\"dataframe\">\n",
       "  <thead>\n",
       "    <tr style=\"text-align: right;\">\n",
       "      <th></th>\n",
       "      <th>admin_page_duration</th>\n",
       "      <th>info_page_duration</th>\n",
       "      <th>product_page_duration</th>\n",
       "      <th>PageValues</th>\n",
       "      <th>closeness_to_holiday</th>\n",
       "      <th>B</th>\n",
       "      <th>avg_rates</th>\n",
       "    </tr>\n",
       "  </thead>\n",
       "  <tbody>\n",
       "    <tr>\n",
       "      <th>0</th>\n",
       "      <td>18.00</td>\n",
       "      <td>0.0</td>\n",
       "      <td>474.500000</td>\n",
       "      <td>0.000000</td>\n",
       "      <td>0.0</td>\n",
       "      <td>97.956342</td>\n",
       "      <td>0.001613</td>\n",
       "    </tr>\n",
       "    <tr>\n",
       "      <th>1</th>\n",
       "      <td>54.00</td>\n",
       "      <td>0.0</td>\n",
       "      <td>220.966667</td>\n",
       "      <td>0.000000</td>\n",
       "      <td>0.0</td>\n",
       "      <td>111.762295</td>\n",
       "      <td>0.025000</td>\n",
       "    </tr>\n",
       "    <tr>\n",
       "      <th>2</th>\n",
       "      <td>0.00</td>\n",
       "      <td>11.0</td>\n",
       "      <td>1299.196667</td>\n",
       "      <td>0.000000</td>\n",
       "      <td>0.0</td>\n",
       "      <td>101.429366</td>\n",
       "      <td>0.013091</td>\n",
       "    </tr>\n",
       "    <tr>\n",
       "      <th>3</th>\n",
       "      <td>8.00</td>\n",
       "      <td>0.0</td>\n",
       "      <td>346.386667</td>\n",
       "      <td>0.000000</td>\n",
       "      <td>0.0</td>\n",
       "      <td>99.304262</td>\n",
       "      <td>0.014706</td>\n",
       "    </tr>\n",
       "    <tr>\n",
       "      <th>4</th>\n",
       "      <td>0.00</td>\n",
       "      <td>0.0</td>\n",
       "      <td>166.120000</td>\n",
       "      <td>0.000000</td>\n",
       "      <td>0.0</td>\n",
       "      <td>107.093749</td>\n",
       "      <td>0.011111</td>\n",
       "    </tr>\n",
       "    <tr>\n",
       "      <th>...</th>\n",
       "      <td>...</td>\n",
       "      <td>...</td>\n",
       "      <td>...</td>\n",
       "      <td>...</td>\n",
       "      <td>...</td>\n",
       "      <td>...</td>\n",
       "      <td>...</td>\n",
       "    </tr>\n",
       "    <tr>\n",
       "      <th>8237</th>\n",
       "      <td>519.00</td>\n",
       "      <td>0.0</td>\n",
       "      <td>2577.960349</td>\n",
       "      <td>0.000000</td>\n",
       "      <td>0.0</td>\n",
       "      <td>102.585479</td>\n",
       "      <td>0.025071</td>\n",
       "    </tr>\n",
       "    <tr>\n",
       "      <th>8238</th>\n",
       "      <td>9.00</td>\n",
       "      <td>0.0</td>\n",
       "      <td>558.193333</td>\n",
       "      <td>0.000000</td>\n",
       "      <td>0.0</td>\n",
       "      <td>86.700449</td>\n",
       "      <td>0.005556</td>\n",
       "    </tr>\n",
       "    <tr>\n",
       "      <th>8239</th>\n",
       "      <td>61.08</td>\n",
       "      <td>0.0</td>\n",
       "      <td>1324.850000</td>\n",
       "      <td>0.000000</td>\n",
       "      <td>0.0</td>\n",
       "      <td>78.520357</td>\n",
       "      <td>0.008140</td>\n",
       "    </tr>\n",
       "    <tr>\n",
       "      <th>8240</th>\n",
       "      <td>0.00</td>\n",
       "      <td>0.0</td>\n",
       "      <td>111.666667</td>\n",
       "      <td>0.000000</td>\n",
       "      <td>0.0</td>\n",
       "      <td>100.097249</td>\n",
       "      <td>0.012500</td>\n",
       "    </tr>\n",
       "    <tr>\n",
       "      <th>8241</th>\n",
       "      <td>0.00</td>\n",
       "      <td>0.0</td>\n",
       "      <td>2304.150000</td>\n",
       "      <td>3.178183</td>\n",
       "      <td>0.0</td>\n",
       "      <td>108.497646</td>\n",
       "      <td>0.014403</td>\n",
       "    </tr>\n",
       "  </tbody>\n",
       "</table>\n",
       "<p>8242 rows × 7 columns</p>\n",
       "</div>"
      ],
      "text/plain": [
       "      admin_page_duration  info_page_duration  product_page_duration  \\\n",
       "0                   18.00                 0.0             474.500000   \n",
       "1                   54.00                 0.0             220.966667   \n",
       "2                    0.00                11.0            1299.196667   \n",
       "3                    8.00                 0.0             346.386667   \n",
       "4                    0.00                 0.0             166.120000   \n",
       "...                   ...                 ...                    ...   \n",
       "8237               519.00                 0.0            2577.960349   \n",
       "8238                 9.00                 0.0             558.193333   \n",
       "8239                61.08                 0.0            1324.850000   \n",
       "8240                 0.00                 0.0             111.666667   \n",
       "8241                 0.00                 0.0            2304.150000   \n",
       "\n",
       "      PageValues  closeness_to_holiday           B  avg_rates  \n",
       "0       0.000000                   0.0   97.956342   0.001613  \n",
       "1       0.000000                   0.0  111.762295   0.025000  \n",
       "2       0.000000                   0.0  101.429366   0.013091  \n",
       "3       0.000000                   0.0   99.304262   0.014706  \n",
       "4       0.000000                   0.0  107.093749   0.011111  \n",
       "...          ...                   ...         ...        ...  \n",
       "8237    0.000000                   0.0  102.585479   0.025071  \n",
       "8238    0.000000                   0.0   86.700449   0.005556  \n",
       "8239    0.000000                   0.0   78.520357   0.008140  \n",
       "8240    0.000000                   0.0  100.097249   0.012500  \n",
       "8241    3.178183                   0.0  108.497646   0.014403  \n",
       "\n",
       "[8242 rows x 7 columns]"
      ]
     },
     "execution_count": 55,
     "metadata": {},
     "output_type": "execute_result"
    }
   ],
   "source": [
    "X_train[numeric_updated]"
   ]
  },
  {
   "cell_type": "markdown",
   "metadata": {},
   "source": [
    "Many models perform better when features are on a relatively similar scale and/or close to normally distributed."
   ]
  },
  {
   "cell_type": "markdown",
   "metadata": {},
   "source": [
    "Scaling the numeric features to be in equally scaled.<br>\n",
    "μ = 0 and σ^2 = 1."
   ]
  },
  {
   "cell_type": "code",
   "execution_count": 56,
   "metadata": {},
   "outputs": [
    {
     "data": {
      "text/html": [
       "<div>\n",
       "<style scoped>\n",
       "    .dataframe tbody tr th:only-of-type {\n",
       "        vertical-align: middle;\n",
       "    }\n",
       "\n",
       "    .dataframe tbody tr th {\n",
       "        vertical-align: top;\n",
       "    }\n",
       "\n",
       "    .dataframe thead th {\n",
       "        text-align: right;\n",
       "    }\n",
       "</style>\n",
       "<table border=\"1\" class=\"dataframe\">\n",
       "  <thead>\n",
       "    <tr style=\"text-align: right;\">\n",
       "      <th></th>\n",
       "      <th>admin_page_duration</th>\n",
       "      <th>info_page_duration</th>\n",
       "      <th>product_page_duration</th>\n",
       "      <th>PageValues</th>\n",
       "      <th>closeness_to_holiday</th>\n",
       "      <th>B</th>\n",
       "      <th>avg_rates</th>\n",
       "    </tr>\n",
       "  </thead>\n",
       "  <tbody>\n",
       "    <tr>\n",
       "      <th>0</th>\n",
       "      <td>-0.340499</td>\n",
       "      <td>-0.237038</td>\n",
       "      <td>-0.358629</td>\n",
       "      <td>-0.309935</td>\n",
       "      <td>-0.304946</td>\n",
       "      <td>-0.180383</td>\n",
       "      <td>-0.654131</td>\n",
       "    </tr>\n",
       "    <tr>\n",
       "      <th>1</th>\n",
       "      <td>-0.138038</td>\n",
       "      <td>-0.237038</td>\n",
       "      <td>-0.487941</td>\n",
       "      <td>-0.309935</td>\n",
       "      <td>-0.304946</td>\n",
       "      <td>1.231641</td>\n",
       "      <td>-0.159612</td>\n",
       "    </tr>\n",
       "    <tr>\n",
       "      <th>2</th>\n",
       "      <td>-0.441729</td>\n",
       "      <td>-0.160341</td>\n",
       "      <td>0.061999</td>\n",
       "      <td>-0.309935</td>\n",
       "      <td>-0.304946</td>\n",
       "      <td>0.174826</td>\n",
       "      <td>-0.411429</td>\n",
       "    </tr>\n",
       "    <tr>\n",
       "      <th>3</th>\n",
       "      <td>-0.396738</td>\n",
       "      <td>-0.237038</td>\n",
       "      <td>-0.423972</td>\n",
       "      <td>-0.309935</td>\n",
       "      <td>-0.304946</td>\n",
       "      <td>-0.042522</td>\n",
       "      <td>-0.377281</td>\n",
       "    </tr>\n",
       "    <tr>\n",
       "      <th>4</th>\n",
       "      <td>-0.441729</td>\n",
       "      <td>-0.237038</td>\n",
       "      <td>-0.515915</td>\n",
       "      <td>-0.309935</td>\n",
       "      <td>-0.304946</td>\n",
       "      <td>0.754159</td>\n",
       "      <td>-0.453292</td>\n",
       "    </tr>\n",
       "    <tr>\n",
       "      <th>...</th>\n",
       "      <td>...</td>\n",
       "      <td>...</td>\n",
       "      <td>...</td>\n",
       "      <td>...</td>\n",
       "      <td>...</td>\n",
       "      <td>...</td>\n",
       "      <td>...</td>\n",
       "    </tr>\n",
       "    <tr>\n",
       "      <th>8237</th>\n",
       "      <td>2.477075</td>\n",
       "      <td>-0.237038</td>\n",
       "      <td>0.714220</td>\n",
       "      <td>-0.309935</td>\n",
       "      <td>-0.304946</td>\n",
       "      <td>0.293069</td>\n",
       "      <td>-0.158103</td>\n",
       "    </tr>\n",
       "    <tr>\n",
       "      <th>8238</th>\n",
       "      <td>-0.391114</td>\n",
       "      <td>-0.237038</td>\n",
       "      <td>-0.315942</td>\n",
       "      <td>-0.309935</td>\n",
       "      <td>-0.304946</td>\n",
       "      <td>-1.331596</td>\n",
       "      <td>-0.570764</td>\n",
       "    </tr>\n",
       "    <tr>\n",
       "      <th>8239</th>\n",
       "      <td>-0.098221</td>\n",
       "      <td>-0.237038</td>\n",
       "      <td>0.075084</td>\n",
       "      <td>-0.309935</td>\n",
       "      <td>-0.304946</td>\n",
       "      <td>-2.168227</td>\n",
       "      <td>-0.516126</td>\n",
       "    </tr>\n",
       "    <tr>\n",
       "      <th>8240</th>\n",
       "      <td>-0.441729</td>\n",
       "      <td>-0.237038</td>\n",
       "      <td>-0.543689</td>\n",
       "      <td>-0.309935</td>\n",
       "      <td>-0.304946</td>\n",
       "      <td>0.038581</td>\n",
       "      <td>-0.423924</td>\n",
       "    </tr>\n",
       "    <tr>\n",
       "      <th>8241</th>\n",
       "      <td>-0.441729</td>\n",
       "      <td>-0.237038</td>\n",
       "      <td>0.574566</td>\n",
       "      <td>-0.146588</td>\n",
       "      <td>-0.304946</td>\n",
       "      <td>0.897744</td>\n",
       "      <td>-0.383684</td>\n",
       "    </tr>\n",
       "  </tbody>\n",
       "</table>\n",
       "<p>8242 rows × 7 columns</p>\n",
       "</div>"
      ],
      "text/plain": [
       "      admin_page_duration  info_page_duration  product_page_duration  \\\n",
       "0               -0.340499           -0.237038              -0.358629   \n",
       "1               -0.138038           -0.237038              -0.487941   \n",
       "2               -0.441729           -0.160341               0.061999   \n",
       "3               -0.396738           -0.237038              -0.423972   \n",
       "4               -0.441729           -0.237038              -0.515915   \n",
       "...                   ...                 ...                    ...   \n",
       "8237             2.477075           -0.237038               0.714220   \n",
       "8238            -0.391114           -0.237038              -0.315942   \n",
       "8239            -0.098221           -0.237038               0.075084   \n",
       "8240            -0.441729           -0.237038              -0.543689   \n",
       "8241            -0.441729           -0.237038               0.574566   \n",
       "\n",
       "      PageValues  closeness_to_holiday         B  avg_rates  \n",
       "0      -0.309935             -0.304946 -0.180383  -0.654131  \n",
       "1      -0.309935             -0.304946  1.231641  -0.159612  \n",
       "2      -0.309935             -0.304946  0.174826  -0.411429  \n",
       "3      -0.309935             -0.304946 -0.042522  -0.377281  \n",
       "4      -0.309935             -0.304946  0.754159  -0.453292  \n",
       "...          ...                   ...       ...        ...  \n",
       "8237   -0.309935             -0.304946  0.293069  -0.158103  \n",
       "8238   -0.309935             -0.304946 -1.331596  -0.570764  \n",
       "8239   -0.309935             -0.304946 -2.168227  -0.516126  \n",
       "8240   -0.309935             -0.304946  0.038581  -0.423924  \n",
       "8241   -0.146588             -0.304946  0.897744  -0.383684  \n",
       "\n",
       "[8242 rows x 7 columns]"
      ]
     },
     "execution_count": 56,
     "metadata": {},
     "output_type": "execute_result"
    }
   ],
   "source": [
    "scaler = StandardScaler()\n",
    "normalized_numeric = pd.DataFrame(data=scaler.fit_transform(X_train[numeric_updated]), columns=numeric_updated)\n",
    "X_train[numeric_updated] = normalized_numeric\n",
    "X_train[numeric_updated]"
   ]
  },
  {
   "cell_type": "markdown",
   "metadata": {},
   "source": [
    "### PCA"
   ]
  },
  {
   "cell_type": "code",
   "execution_count": 57,
   "metadata": {},
   "outputs": [
    {
     "name": "stdout",
     "output_type": "stream",
     "text": [
      "number of components which preserve at least 99% of the variance: 43\n"
     ]
    },
    {
     "data": {
      "image/png": "[encoded data removed]",
      "text/plain": [
       "<Figure size 360x360 with 1 Axes>"
      ]
     },
     "metadata": {
      "needs_background": "light"
     },
     "output_type": "display_data"
    }
   ],
   "source": [
    "def plot_pca(X, p):\n",
    "    pca = PCA().fit(X)\n",
    "    var = np.cumsum(pca.explained_variance_ratio_)\n",
    "    i = np.argwhere(var >= p)[0][0]\n",
    "    principal_components = pca.components_\n",
    "    components = principal_components[:i+1, :]\n",
    "    print(f'number of components which preserve at least 99% of the variance: {len(components)}')\n",
    "    plt.figsize=(5, 5)\n",
    "    plt.plot(var)\n",
    "    plt.xlabel('number of components')\n",
    "    plt.ylabel('cumulative explained variance')\n",
    "\n",
    "plt.figure(figsize=(5,5))\n",
    "plot_pca(X_train,0.99)\n"
   ]
  },
  {
   "cell_type": "code",
   "execution_count": 58,
   "metadata": {},
   "outputs": [
    {
     "name": "stdout",
     "output_type": "stream",
     "text": [
      "original shape:    (8242, 67)\n",
      "transformed shape: (8242, 43)\n"
     ]
    }
   ],
   "source": [
    "def get_principal_components(X, p, pca = None):\n",
    "    \"\"\"\n",
    "    Returns array of principal components explaining (100*p)% of the variance\n",
    "    X: 2d numpy array of data we want to apply PCA on. \n",
    "    p: float in the range (0,1]. The proportion of variance explained by components\n",
    "    \"\"\"\n",
    "    if pca == None:\n",
    "        pca = PCA(n_components=p, svd_solver =\"auto\").fit(X)\n",
    "        newdata_transformed = pd.DataFrame(pca.transform(X))\n",
    "        return pca, newdata_transformed\n",
    "    else:\n",
    "        newdata_transformed = pd.DataFrame(pca.transform(X))\n",
    "        return pca, newdata_transformed\n",
    "\n",
    "PCA_data = get_principal_components(X_train, 0.99)\n",
    "PCA_details = PCA_data[0]\n",
    "X_train_trans = PCA_data[1]\n",
    "print(\"original shape:   \", X_train.shape)\n",
    "print(\"transformed shape:\", X_train_trans.shape)\n",
    "\n"
   ]
  },
  {
   "cell_type": "code",
   "execution_count": 59,
   "metadata": {},
   "outputs": [
    {
     "data": {
      "text/html": [
       "<div>\n",
       "<style scoped>\n",
       "    .dataframe tbody tr th:only-of-type {\n",
       "        vertical-align: middle;\n",
       "    }\n",
       "\n",
       "    .dataframe tbody tr th {\n",
       "        vertical-align: top;\n",
       "    }\n",
       "\n",
       "    .dataframe thead th {\n",
       "        text-align: right;\n",
       "    }\n",
       "</style>\n",
       "<table border=\"1\" class=\"dataframe\">\n",
       "  <thead>\n",
       "    <tr style=\"text-align: right;\">\n",
       "      <th></th>\n",
       "      <th>0</th>\n",
       "      <th>1</th>\n",
       "      <th>2</th>\n",
       "      <th>3</th>\n",
       "      <th>4</th>\n",
       "      <th>5</th>\n",
       "      <th>6</th>\n",
       "      <th>7</th>\n",
       "      <th>8</th>\n",
       "      <th>9</th>\n",
       "      <th>...</th>\n",
       "      <th>33</th>\n",
       "      <th>34</th>\n",
       "      <th>35</th>\n",
       "      <th>36</th>\n",
       "      <th>37</th>\n",
       "      <th>38</th>\n",
       "      <th>39</th>\n",
       "      <th>40</th>\n",
       "      <th>41</th>\n",
       "      <th>42</th>\n",
       "    </tr>\n",
       "  </thead>\n",
       "  <tbody>\n",
       "    <tr>\n",
       "      <th>0</th>\n",
       "      <td>-0.238920</td>\n",
       "      <td>-0.595781</td>\n",
       "      <td>-0.032638</td>\n",
       "      <td>-0.408563</td>\n",
       "      <td>-0.671611</td>\n",
       "      <td>-0.186373</td>\n",
       "      <td>-0.703259</td>\n",
       "      <td>1.324102</td>\n",
       "      <td>0.013335</td>\n",
       "      <td>-0.410175</td>\n",
       "      <td>...</td>\n",
       "      <td>-0.055253</td>\n",
       "      <td>-0.069702</td>\n",
       "      <td>-0.013677</td>\n",
       "      <td>-0.007212</td>\n",
       "      <td>-0.060685</td>\n",
       "      <td>-0.082871</td>\n",
       "      <td>-0.066721</td>\n",
       "      <td>-0.020877</td>\n",
       "      <td>-0.010249</td>\n",
       "      <td>-0.000295</td>\n",
       "    </tr>\n",
       "    <tr>\n",
       "      <th>1</th>\n",
       "      <td>-0.562544</td>\n",
       "      <td>-0.225641</td>\n",
       "      <td>-1.043057</td>\n",
       "      <td>0.603136</td>\n",
       "      <td>-0.257021</td>\n",
       "      <td>0.175986</td>\n",
       "      <td>-0.715243</td>\n",
       "      <td>1.126904</td>\n",
       "      <td>-0.192741</td>\n",
       "      <td>-0.721601</td>\n",
       "      <td>...</td>\n",
       "      <td>0.263645</td>\n",
       "      <td>0.570039</td>\n",
       "      <td>0.086398</td>\n",
       "      <td>0.203397</td>\n",
       "      <td>0.173261</td>\n",
       "      <td>-0.286540</td>\n",
       "      <td>-0.531315</td>\n",
       "      <td>-0.046241</td>\n",
       "      <td>-0.263534</td>\n",
       "      <td>0.104543</td>\n",
       "    </tr>\n",
       "    <tr>\n",
       "      <th>2</th>\n",
       "      <td>-0.107535</td>\n",
       "      <td>-0.394174</td>\n",
       "      <td>-0.333081</td>\n",
       "      <td>-0.185358</td>\n",
       "      <td>-0.470181</td>\n",
       "      <td>-0.231851</td>\n",
       "      <td>-0.350492</td>\n",
       "      <td>1.495024</td>\n",
       "      <td>0.056317</td>\n",
       "      <td>-0.373869</td>\n",
       "      <td>...</td>\n",
       "      <td>-0.390212</td>\n",
       "      <td>0.454288</td>\n",
       "      <td>0.083666</td>\n",
       "      <td>-0.595673</td>\n",
       "      <td>-0.260606</td>\n",
       "      <td>-0.098026</td>\n",
       "      <td>-0.006301</td>\n",
       "      <td>-0.129078</td>\n",
       "      <td>0.019786</td>\n",
       "      <td>-0.127530</td>\n",
       "    </tr>\n",
       "    <tr>\n",
       "      <th>3</th>\n",
       "      <td>-0.463999</td>\n",
       "      <td>-0.282021</td>\n",
       "      <td>-0.134578</td>\n",
       "      <td>-0.248840</td>\n",
       "      <td>-0.437362</td>\n",
       "      <td>-0.222733</td>\n",
       "      <td>-0.144936</td>\n",
       "      <td>-0.255280</td>\n",
       "      <td>1.024336</td>\n",
       "      <td>-0.824974</td>\n",
       "      <td>...</td>\n",
       "      <td>-0.282602</td>\n",
       "      <td>-0.225349</td>\n",
       "      <td>-0.013188</td>\n",
       "      <td>0.058704</td>\n",
       "      <td>0.691140</td>\n",
       "      <td>-0.318872</td>\n",
       "      <td>0.015925</td>\n",
       "      <td>-0.042283</td>\n",
       "      <td>-0.037998</td>\n",
       "      <td>-0.130473</td>\n",
       "    </tr>\n",
       "    <tr>\n",
       "      <th>4</th>\n",
       "      <td>-0.486400</td>\n",
       "      <td>-0.431412</td>\n",
       "      <td>-0.723277</td>\n",
       "      <td>0.284678</td>\n",
       "      <td>-0.496345</td>\n",
       "      <td>-0.402240</td>\n",
       "      <td>0.149998</td>\n",
       "      <td>-0.593656</td>\n",
       "      <td>-0.278464</td>\n",
       "      <td>0.114705</td>\n",
       "      <td>...</td>\n",
       "      <td>-0.284445</td>\n",
       "      <td>-0.118652</td>\n",
       "      <td>-0.003762</td>\n",
       "      <td>0.117156</td>\n",
       "      <td>0.793832</td>\n",
       "      <td>-0.317436</td>\n",
       "      <td>0.097883</td>\n",
       "      <td>-0.009676</td>\n",
       "      <td>0.023803</td>\n",
       "      <td>-0.142710</td>\n",
       "    </tr>\n",
       "    <tr>\n",
       "      <th>...</th>\n",
       "      <td>...</td>\n",
       "      <td>...</td>\n",
       "      <td>...</td>\n",
       "      <td>...</td>\n",
       "      <td>...</td>\n",
       "      <td>...</td>\n",
       "      <td>...</td>\n",
       "      <td>...</td>\n",
       "      <td>...</td>\n",
       "      <td>...</td>\n",
       "      <td>...</td>\n",
       "      <td>...</td>\n",
       "      <td>...</td>\n",
       "      <td>...</td>\n",
       "      <td>...</td>\n",
       "      <td>...</td>\n",
       "      <td>...</td>\n",
       "      <td>...</td>\n",
       "      <td>...</td>\n",
       "      <td>...</td>\n",
       "      <td>...</td>\n",
       "    </tr>\n",
       "    <tr>\n",
       "      <th>8237</th>\n",
       "      <td>1.591639</td>\n",
       "      <td>0.390756</td>\n",
       "      <td>-0.601709</td>\n",
       "      <td>-0.107389</td>\n",
       "      <td>-0.417025</td>\n",
       "      <td>1.854843</td>\n",
       "      <td>0.053804</td>\n",
       "      <td>-0.898261</td>\n",
       "      <td>-0.451627</td>\n",
       "      <td>-0.588643</td>\n",
       "      <td>...</td>\n",
       "      <td>-0.263445</td>\n",
       "      <td>-0.104959</td>\n",
       "      <td>-0.114400</td>\n",
       "      <td>0.092338</td>\n",
       "      <td>0.821564</td>\n",
       "      <td>-0.316081</td>\n",
       "      <td>0.119850</td>\n",
       "      <td>-0.056952</td>\n",
       "      <td>0.035028</td>\n",
       "      <td>-0.137022</td>\n",
       "    </tr>\n",
       "    <tr>\n",
       "      <th>8238</th>\n",
       "      <td>-0.240406</td>\n",
       "      <td>-0.328114</td>\n",
       "      <td>0.874245</td>\n",
       "      <td>-1.050339</td>\n",
       "      <td>-0.612351</td>\n",
       "      <td>-0.388596</td>\n",
       "      <td>0.236935</td>\n",
       "      <td>-0.620923</td>\n",
       "      <td>-0.263237</td>\n",
       "      <td>-0.894111</td>\n",
       "      <td>...</td>\n",
       "      <td>-0.252913</td>\n",
       "      <td>0.185058</td>\n",
       "      <td>-0.145867</td>\n",
       "      <td>0.719718</td>\n",
       "      <td>-0.367049</td>\n",
       "      <td>0.085986</td>\n",
       "      <td>0.090632</td>\n",
       "      <td>-0.013366</td>\n",
       "      <td>0.003163</td>\n",
       "      <td>-0.136033</td>\n",
       "    </tr>\n",
       "    <tr>\n",
       "      <th>8239</th>\n",
       "      <td>0.166033</td>\n",
       "      <td>-0.149593</td>\n",
       "      <td>1.526296</td>\n",
       "      <td>-1.533356</td>\n",
       "      <td>-0.645950</td>\n",
       "      <td>-0.193311</td>\n",
       "      <td>0.392029</td>\n",
       "      <td>-0.484440</td>\n",
       "      <td>-0.214348</td>\n",
       "      <td>0.244244</td>\n",
       "      <td>...</td>\n",
       "      <td>0.689042</td>\n",
       "      <td>-0.315401</td>\n",
       "      <td>0.031140</td>\n",
       "      <td>-0.147248</td>\n",
       "      <td>-0.118582</td>\n",
       "      <td>0.042745</td>\n",
       "      <td>-0.096167</td>\n",
       "      <td>-0.027960</td>\n",
       "      <td>-0.097947</td>\n",
       "      <td>-0.047695</td>\n",
       "    </tr>\n",
       "    <tr>\n",
       "      <th>8240</th>\n",
       "      <td>-0.494610</td>\n",
       "      <td>-0.419772</td>\n",
       "      <td>-0.223808</td>\n",
       "      <td>-0.218020</td>\n",
       "      <td>-0.497142</td>\n",
       "      <td>-0.398896</td>\n",
       "      <td>0.124547</td>\n",
       "      <td>-0.664348</td>\n",
       "      <td>-0.323057</td>\n",
       "      <td>0.073670</td>\n",
       "      <td>...</td>\n",
       "      <td>-0.013982</td>\n",
       "      <td>-0.081975</td>\n",
       "      <td>-0.022192</td>\n",
       "      <td>-0.005094</td>\n",
       "      <td>-0.024555</td>\n",
       "      <td>-0.015790</td>\n",
       "      <td>-0.035737</td>\n",
       "      <td>-0.029951</td>\n",
       "      <td>-0.042878</td>\n",
       "      <td>0.018628</td>\n",
       "    </tr>\n",
       "    <tr>\n",
       "      <th>8241</th>\n",
       "      <td>0.213190</td>\n",
       "      <td>-0.336443</td>\n",
       "      <td>-0.869571</td>\n",
       "      <td>0.385849</td>\n",
       "      <td>-0.359577</td>\n",
       "      <td>-0.317049</td>\n",
       "      <td>0.672829</td>\n",
       "      <td>0.196602</td>\n",
       "      <td>1.134315</td>\n",
       "      <td>0.885815</td>\n",
       "      <td>...</td>\n",
       "      <td>0.026749</td>\n",
       "      <td>-0.013287</td>\n",
       "      <td>0.006438</td>\n",
       "      <td>0.002721</td>\n",
       "      <td>-0.026280</td>\n",
       "      <td>-0.067051</td>\n",
       "      <td>-0.030501</td>\n",
       "      <td>-0.013334</td>\n",
       "      <td>0.010299</td>\n",
       "      <td>-0.012967</td>\n",
       "    </tr>\n",
       "  </tbody>\n",
       "</table>\n",
       "<p>8242 rows × 43 columns</p>\n",
       "</div>"
      ],
      "text/plain": [
       "            0         1         2         3         4         5         6   \\\n",
       "0    -0.238920 -0.595781 -0.032638 -0.408563 -0.671611 -0.186373 -0.703259   \n",
       "1    -0.562544 -0.225641 -1.043057  0.603136 -0.257021  0.175986 -0.715243   \n",
       "2    -0.107535 -0.394174 -0.333081 -0.185358 -0.470181 -0.231851 -0.350492   \n",
       "3    -0.463999 -0.282021 -0.134578 -0.248840 -0.437362 -0.222733 -0.144936   \n",
       "4    -0.486400 -0.431412 -0.723277  0.284678 -0.496345 -0.402240  0.149998   \n",
       "...        ...       ...       ...       ...       ...       ...       ...   \n",
       "8237  1.591639  0.390756 -0.601709 -0.107389 -0.417025  1.854843  0.053804   \n",
       "8238 -0.240406 -0.328114  0.874245 -1.050339 -0.612351 -0.388596  0.236935   \n",
       "8239  0.166033 -0.149593  1.526296 -1.533356 -0.645950 -0.193311  0.392029   \n",
       "8240 -0.494610 -0.419772 -0.223808 -0.218020 -0.497142 -0.398896  0.124547   \n",
       "8241  0.213190 -0.336443 -0.869571  0.385849 -0.359577 -0.317049  0.672829   \n",
       "\n",
       "            7         8         9   ...        33        34        35  \\\n",
       "0     1.324102  0.013335 -0.410175  ... -0.055253 -0.069702 -0.013677   \n",
       "1     1.126904 -0.192741 -0.721601  ...  0.263645  0.570039  0.086398   \n",
       "2     1.495024  0.056317 -0.373869  ... -0.390212  0.454288  0.083666   \n",
       "3    -0.255280  1.024336 -0.824974  ... -0.282602 -0.225349 -0.013188   \n",
       "4    -0.593656 -0.278464  0.114705  ... -0.284445 -0.118652 -0.003762   \n",
       "...        ...       ...       ...  ...       ...       ...       ...   \n",
       "8237 -0.898261 -0.451627 -0.588643  ... -0.263445 -0.104959 -0.114400   \n",
       "8238 -0.620923 -0.263237 -0.894111  ... -0.252913  0.185058 -0.145867   \n",
       "8239 -0.484440 -0.214348  0.244244  ...  0.689042 -0.315401  0.031140   \n",
       "8240 -0.664348 -0.323057  0.073670  ... -0.013982 -0.081975 -0.022192   \n",
       "8241  0.196602  1.134315  0.885815  ...  0.026749 -0.013287  0.006438   \n",
       "\n",
       "            36        37        38        39        40        41        42  \n",
       "0    -0.007212 -0.060685 -0.082871 -0.066721 -0.020877 -0.010249 -0.000295  \n",
       "1     0.203397  0.173261 -0.286540 -0.531315 -0.046241 -0.263534  0.104543  \n",
       "2    -0.595673 -0.260606 -0.098026 -0.006301 -0.129078  0.019786 -0.127530  \n",
       "3     0.058704  0.691140 -0.318872  0.015925 -0.042283 -0.037998 -0.130473  \n",
       "4     0.117156  0.793832 -0.317436  0.097883 -0.009676  0.023803 -0.142710  \n",
       "...        ...       ...       ...       ...       ...       ...       ...  \n",
       "8237  0.092338  0.821564 -0.316081  0.119850 -0.056952  0.035028 -0.137022  \n",
       "8238  0.719718 -0.367049  0.085986  0.090632 -0.013366  0.003163 -0.136033  \n",
       "8239 -0.147248 -0.118582  0.042745 -0.096167 -0.027960 -0.097947 -0.047695  \n",
       "8240 -0.005094 -0.024555 -0.015790 -0.035737 -0.029951 -0.042878  0.018628  \n",
       "8241  0.002721 -0.026280 -0.067051 -0.030501 -0.013334  0.010299 -0.012967  \n",
       "\n",
       "[8242 rows x 43 columns]"
      ]
     },
     "execution_count": 59,
     "metadata": {},
     "output_type": "execute_result"
    }
   ],
   "source": [
    "X_train_trans"
   ]
  },
  {
   "cell_type": "markdown",
   "metadata": {},
   "source": [
    "We gathered together all the processing we did into one function"
   ]
  },
  {
   "cell_type": "code",
   "execution_count": 60,
   "metadata": {},
   "outputs": [],
   "source": [
    "def pre_process_train(x_train, y_train, pca = None):\n",
    "    # handle columns with 'minutes' suffix\n",
    "    cols_to_change = [\"info_page_duration\", \"product_page_duration\"] \n",
    "    for col in cols_to_change:\n",
    "        x_train[col] = change_coloumn(x_train, col, \" \", 0)\n",
    "        x_train[col] = x_train[col].astype(float)\n",
    "    \n",
    "    #types of columns\n",
    "    all_cols = x_train.columns\n",
    "    numeric = list(x_train.select_dtypes(include=[np.number]).columns) # numeric columns\n",
    "    non_numeric = list(set(all_cols) - set(numeric)) # non numeric columns\n",
    "    \n",
    "    #changing columns device and region to be categorial variable\n",
    "    for c in [\"device\", \"Region\"]: \n",
    "        numeric.remove(c)\n",
    "        non_numeric.append(c)\n",
    "        x_train[c] = x_train[c].astype(object)\n",
    "\n",
    "    # remove rows which have less than 17 features\n",
    "    feature_count = x_train.shape[1] - x_train.isnull().sum(axis=1)\n",
    "    less_17_features = feature_count.values<17\n",
    "    to_remove = np.where(less_17_features)\n",
    "    x_train, y_train = remove_row(x_train, y_train, to_remove[0])\n",
    "\n",
    "    #remove sample which are oulier according to feature B\n",
    "    Q1 = x_train[\"B\"].quantile(0.25)\n",
    "    Q3 = x_train[\"B\"].quantile(0.75)\n",
    "    IQR = Q3 - Q1\n",
    "    B_outlier = (x_train[\"B\"] < (Q1 - 1.5 * IQR)) |(x_train[\"B\"] > (Q3 + 1.5 * IQR))\n",
    "    to_remove = np.where(B_outlier)\n",
    "    x_train, y_train = remove_row(x_train, y_train, to_remove[0])\n",
    "\n",
    "    #remove column d\n",
    "    x_train = remove_column(x_train, \"D\")\n",
    "    numeric.remove(\"D\") #update the numric list that we removed feature D.\n",
    "    \n",
    "\n",
    "    #changing column internet browser, save only the name of the browser type (remove the part after_)\n",
    "    x_train[\"internet_browser\"] = change_coloumn(x_train, \"internet_browser\", \"_\", 0)\n",
    "\n",
    "    #changing column A: grouped by main suspect version and remove the prefix c\n",
    "    x_train[\"A\"] = change_coloumn(x_train, \"A\", \"_\", 1)\n",
    "\n",
    "    #Categorical Features: filling missing values by most frequent\n",
    "    cat_most_freq = {}  #dictionary that saves most frequent values of the train categorical features\n",
    "    for col in non_numeric:\n",
    "            x_train = cat_filling_null(col, x_train, cat_most_freq)\n",
    "\n",
    "\n",
    "    #Numerical Features: filling missing values by mean for feature B and median for the other numerical columns.\n",
    "    num_mean = {} #dictionary that saves most avg values of the train numerical features (except B)\n",
    "    num_median = {} #dictionary that saves median value of the train numerical column B\n",
    "    for col in numeric:\n",
    "        if col == \"B\":\n",
    "            x_train = num_filling_null_mean(col, x_train, num_mean)\n",
    "        else:\n",
    "            x_train = num_filling_null_median(col, x_train, num_median)\n",
    "\n",
    "    #Change column \"Weekend\" from boolean string(True/False) to 1/0\n",
    "    x_train = change_boolean(x_train, \"Weekend\")\n",
    "    \n",
    "    #Create Dummy Variables for categorical columns\n",
    "    non_numeric_cat = non_numeric.copy() #list of columnns that will create for them dummy varaibles (except weekend which is boolean)\n",
    "    non_numeric_cat.remove(\"Weekend\")\n",
    "    x_train = change_to_dummies(x_train, non_numeric_cat)\n",
    "    \n",
    "    #Union of 2 correlated columns: \"ExitRates\", \"BounceRates\" by doing average of their values\n",
    "    numeric_updated = numeric.copy()\n",
    "    col_to_combine = [\"ExitRates\", \"BounceRates\"]\n",
    "    x_train[\"avg_rates\"] = x_train[col_to_combine].mean(axis = 1)\n",
    "    numeric_updated.append(\"avg_rates\")\n",
    "\n",
    "    #drop correlated columns\n",
    "    col_to_drop = [\"num_of_product_pages\", \"num_of_info_pages\", \"num_of_admin_pages\", \"total_duration\", \"ExitRates\", \"BounceRates\"]\n",
    "    x_train = remove_column(x_train, col_to_drop)\n",
    "    for c in col_to_drop:\n",
    "        numeric_updated.remove(c)\n",
    "\n",
    "    #normalization\n",
    "    scaler = StandardScaler()\n",
    "    normalized_numeric = pd.DataFrame(data=scaler.fit_transform(x_train[numeric_updated]), columns=numeric_updated)\n",
    "    x_train[numeric_updated] = normalized_numeric\n",
    "    \n",
    "    #pca\n",
    "    if pca != None:\n",
    "        PCA_data = get_principal_components(x_train, 0.99)\n",
    "        PCA_details = PCA_data[0]\n",
    "        x_train_trans = PCA_data[1]\n",
    "        return y_train, x_train, cat_most_freq, num_mean, num_median, numeric, numeric_updated, non_numeric,non_numeric_cat, col_to_combine, col_to_drop, scaler, PCA_details, x_train_trans\n",
    "        \n",
    "         \n",
    "    return y_train, x_train, cat_most_freq, num_mean, num_median, numeric, numeric_updated, non_numeric,non_numeric_cat, col_to_combine, col_to_drop, scaler"
   ]
  },
  {
   "cell_type": "code",
   "execution_count": 61,
   "metadata": {},
   "outputs": [],
   "source": [
    "# We ran the function pre_process_train on a copy of the train to do everything in a continuous and orderly manner\n",
    "train_after_proc_and_pca = pre_process_train(x_train_copy, y_train_copy, 1)\n",
    "x_train_after_proc_and_pca = train_after_proc_and_pca[-1]\n",
    "y_train_after_proc_and_pca = train_after_proc_and_pca[0]"
   ]
  },
  {
   "cell_type": "code",
   "execution_count": 62,
   "metadata": {},
   "outputs": [
    {
     "data": {
      "text/plain": [
       "True"
      ]
     },
     "execution_count": 62,
     "metadata": {},
     "output_type": "execute_result"
    }
   ],
   "source": [
    "#to validate that we did not miss a function in pre processing train function\n",
    "x_train_after_proc_and_pca.equals(X_train_trans)\n"
   ]
  },
  {
   "cell_type": "code",
   "execution_count": 63,
   "metadata": {},
   "outputs": [],
   "source": [
    "def pre_process_test(x_test, x_train, cat_most_freq, num_mean, num_median, numeric, numeric_updated, non_numeric, non_numeric_cat, col_to_combine, col_to_drop, scaler, PCA_details = None):\n",
    "    # handle columns with 'minutes' suffix \n",
    "    cols_to_change = [\"info_page_duration\", \"product_page_duration\"]\n",
    "    for col in cols_to_change:\n",
    "        x_test[col] = change_coloumn(x_test, col, \" \", 0)\n",
    "        x_test[col] = x_test[col].astype(float)\n",
    "\n",
    "    #remove column d\n",
    "    x_test = remove_column(x_test, \"D\")\n",
    "\n",
    "    #changing column internet browser (remove the part after_)\n",
    "    x_test[\"internet_browser\"] = change_coloumn(x_test, \"internet_browser\", \"_\", 0)\n",
    "\n",
    "    #changing column A \n",
    "    x_test[\"A\"] = change_coloumn(x_test, \"A\", \"_\", 1)\n",
    "\n",
    "    #Categorical Features: filling missing values by most frequent\n",
    "    for col in non_numeric:\n",
    "        x_test = cat_filling_null(col, x_test, cat_most_freq, 1)\n",
    "\n",
    "\n",
    "    #Numerical Features: filling missing values by mean for feature B and median for the other numerical columns.\n",
    "    for col in numeric:\n",
    "        if col == \"B\":\n",
    "            x_test = num_filling_null_mean(col, x_test, num_mean, 1)\n",
    "        else:\n",
    "            x_test = num_filling_null_median(col, x_test, num_median, 1)\n",
    "    \n",
    "    #Change column \"weekend\" from boolean string(True/False) to 1/0\n",
    "    x_test = change_boolean(x_test, \"Weekend\")\n",
    "    \n",
    "    #Create Dummy Variables for categorical columns\n",
    "    x_test = change_to_dummies(x_test, non_numeric_cat)\n",
    "    \n",
    "    #drop correlated columns\n",
    "    x_test[\"avg_rates\"] = x_test[col_to_combine].mean(axis = 1)\n",
    "    x_test = remove_column(x_test, col_to_drop)\n",
    "\n",
    "\n",
    "    # Get missing columns in the test and set them with default value equal to 0\n",
    "    missing_cols = set(x_train.columns) - set(x_test.columns)\n",
    "    for c in missing_cols:\n",
    "        x_test[c] = 0\n",
    "    # Ensure the order of column in the test set is in the same order than in train set\n",
    "    x_test = x_test[x_train.columns]\n",
    "\n",
    "    #normalization\n",
    "    normalized_numeric = pd.DataFrame(data=scaler.transform(x_test[numeric_updated]), columns=numeric_updated)\n",
    "    x_test[numeric_updated] = normalized_numeric\n",
    "    \n",
    "\n",
    "    #pca\n",
    "    if PCA_details != None:\n",
    "        PCA_data = get_principal_components(x_test, 0.99, PCA_details)\n",
    "        x_test = PCA_data[1]\n",
    "\n",
    "    \n",
    "    return x_test"
   ]
  },
  {
   "cell_type": "code",
   "execution_count": 64,
   "metadata": {
    "scrolled": false
   },
   "outputs": [],
   "source": [
    "list(train_after_proc_and_pca)\n",
    "test_after_proc_and_pca= pre_process_test(x_test_copy, *train_after_proc_and_pca[1:-1])\n",
    "x_test_after_proc_and_pca = test_after_proc_and_pca\n",
    "y_test_after_proc_and_pca = y_test_copy"
   ]
  },
  {
   "cell_type": "markdown",
   "metadata": {},
   "source": [
    "# Parts 3 and 4 - Model Running And Model Evaluation"
   ]
  },
  {
   "cell_type": "markdown",
   "metadata": {},
   "source": [
    "##### Utility functions:"
   ]
  },
  {
   "cell_type": "code",
   "execution_count": 65,
   "metadata": {},
   "outputs": [],
   "source": [
    "def grid_search(estimator, param_grid, x, y):\n",
    "    grid = GridSearchCV(estimator=estimator(), param_grid=param_grid, scoring='roc_auc', cv=10)\n",
    "    grid.fit(x,y)\n",
    "    return grid"
   ]
  },
  {
   "cell_type": "code",
   "execution_count": 66,
   "metadata": {},
   "outputs": [],
   "source": [
    "def plot_roc(model, name, param, n_splits, x_train, y_train, x_test, y_test):\n",
    "    cv = StratifiedKFold(n_splits)\n",
    "    if model==SVC:\n",
    "        classifier = model(**param,probability=True)\n",
    "    else:\n",
    "        classifier = model(**param)\n",
    "    X = np.array(x_train)\n",
    "    y = np.array(y_train)\n",
    "    aucs = []\n",
    "    tprs = []\n",
    "    mean_fpr = np.linspace(0, 1, 100)\n",
    "\n",
    "    fig, ax = plt.subplots(figsize=(7, 7))\n",
    "    for i, (train, test) in enumerate(cv.split(X, y)):\n",
    "        classifier.fit(X[train], y[train])\n",
    "        viz = RocCurveDisplay.from_estimator(\n",
    "            classifier,\n",
    "            X[test],\n",
    "            y[test],\n",
    "            name=\" Validation AUC of Train fold {}\".format(i),\n",
    "            alpha=0.3,\n",
    "            lw=1,\n",
    "            ax=ax,\n",
    "        )\n",
    "        interp_tpr = np.interp(mean_fpr, viz.fpr, viz.tpr)\n",
    "        interp_tpr[0] = 0.0\n",
    "        tprs.append(interp_tpr)\n",
    "        aucs.append(viz.roc_auc)\n",
    "\n",
    "    ax.plot([0, 1], [0, 1], linestyle=\"--\", lw=2, color=\"r\", label=\"Chance\", alpha=0.8)\n",
    "\n",
    "    mean_tpr = np.mean(tprs, axis=0)\n",
    "    mean_tpr[-1] = 1.0\n",
    "    mean_auc = auc(mean_fpr, mean_tpr)\n",
    "    std_auc = np.std(aucs)\n",
    "    ax.plot(\n",
    "        mean_fpr,\n",
    "        mean_tpr,\n",
    "        color=\"b\",\n",
    "        label=r\"Mean Validation of Train folds (AUC = %0.2f $\\pm$ %0.2f)\" % (mean_auc, std_auc),\n",
    "        lw=2,\n",
    "        alpha=0.8,\n",
    "    )\n",
    "    full_model = classifier.fit(x_train, y_train)\n",
    "    train_roc = RocCurveDisplay.from_estimator(\n",
    "        full_model,\n",
    "        np.array(x_train),\n",
    "        np.array(y_train),\n",
    "        name=\"Train AUC\",\n",
    "        alpha=0.4,\n",
    "        color = \"black\",\n",
    "        lw=1,\n",
    "        ax=ax,\n",
    "        )\n",
    "    test_roc = RocCurveDisplay.from_estimator(\n",
    "            full_model,\n",
    "            np.array(x_test),\n",
    "            np.array(y_test),\n",
    "            name=\"Test AUC\",\n",
    "            alpha=0.4,\n",
    "            color = \"blue\",\n",
    "            lw=1,\n",
    "            ax=ax,\n",
    "        )\n",
    "\n",
    "\n",
    "    ax.set(\n",
    "        xlim=[-0.05, 1.05],\n",
    "        ylim=[-0.05, 1.05],\n",
    "        title=f\"ROC for {name}\",\n",
    "    )\n",
    "    ax.legend(loc=\"lower right\")\n",
    "  \n",
    "    plt.show()\n",
    "\n",
    "    \n",
    "    train_auc = roc_auc_score(y_train, full_model.predict_proba(x_train)[:,1])\n",
    "    test_auc = roc_auc_score(y_test, full_model.predict_proba(x_test)[:,1])\n",
    "\n",
    "    scores = np.array([train_auc, test_auc, train_auc - test_auc])\n",
    "    model_scores_series = pd.Series(scores, name= name)\n",
    "    return model_scores_series"
   ]
  },
  {
   "cell_type": "markdown",
   "metadata": {},
   "source": [
    " We tried out the following models: Logistic Regression, Gaussian Naive Bayes, SVM and Adaptive Boosting after pre processing (with PCA):"
   ]
  },
  {
   "cell_type": "markdown",
   "metadata": {},
   "source": [
    "#### Logistic Regression"
   ]
  },
  {
   "cell_type": "code",
   "execution_count": 67,
   "metadata": {},
   "outputs": [],
   "source": [
    "param_log ={\"penalty\": [\"l1\", \"l2\"], \"C\":[0.001, 0.01, 0.1, 1, 10],\"solver\": [\"liblinear\"] , \"max_iter\":[50, 100, 200]}\n",
    "log_reg = grid_search(LogisticRegression, param_log, x_train_after_proc_and_pca, y_train_after_proc_and_pca)\n",
    "log_param = log_reg.best_params_"
   ]
  },
  {
   "cell_type": "code",
   "execution_count": 68,
   "metadata": {},
   "outputs": [
    {
     "name": "stdout",
     "output_type": "stream",
     "text": [
      "best hyperparameters for Logistic Regression:{'C': 0.01, 'max_iter': 50, 'penalty': 'l2', 'solver': 'liblinear'}\n"
     ]
    }
   ],
   "source": [
    "print(f'best hyperparameters for Logistic Regression:{log_param}')"
   ]
  },
  {
   "cell_type": "code",
   "execution_count": 69,
   "metadata": {},
   "outputs": [
    {
     "data": {
      "image/png": "[encoded data removed]",
      "text/plain": [
       "<Figure size 504x504 with 1 Axes>"
      ]
     },
     "metadata": {
      "needs_background": "light"
     },
     "output_type": "display_data"
    }
   ],
   "source": [
    "log_reg_scores_series = plot_roc(LogisticRegression, \"Logistic Regression\", log_param, 10,x_train_after_proc_and_pca, y_train_after_proc_and_pca, x_test_after_proc_and_pca, y_test_after_proc_and_pca)\n"
   ]
  },
  {
   "cell_type": "markdown",
   "metadata": {},
   "source": [
    "#### Gaussian Naive Bayes"
   ]
  },
  {
   "cell_type": "code",
   "execution_count": 70,
   "metadata": {},
   "outputs": [
    {
     "data": {
      "text/html": [
       "<style>#sk-container-id-1 {color: black;background-color: white;}#sk-container-id-1 pre{padding: 0;}#sk-container-id-1 div.sk-toggleable {background-color: white;}#sk-container-id-1 label.sk-toggleable__label {cursor: pointer;display: block;width: 100%;margin-bottom: 0;padding: 0.3em;box-sizing: border-box;text-align: center;}#sk-container-id-1 label.sk-toggleable__label-arrow:before {content: \"▸\";float: left;margin-right: 0.25em;color: #696969;}#sk-container-id-1 label.sk-toggleable__label-arrow:hover:before {color: black;}#sk-container-id-1 div.sk-estimator:hover label.sk-toggleable__label-arrow:before {color: black;}#sk-container-id-1 div.sk-toggleable__content {max-height: 0;max-width: 0;overflow: hidden;text-align: left;background-color: #f0f8ff;}#sk-container-id-1 div.sk-toggleable__content pre {margin: 0.2em;color: black;border-radius: 0.25em;background-color: #f0f8ff;}#sk-container-id-1 input.sk-toggleable__control:checked~div.sk-toggleable__content {max-height: 200px;max-width: 100%;overflow: auto;}#sk-container-id-1 input.sk-toggleable__control:checked~label.sk-toggleable__label-arrow:before {content: \"▾\";}#sk-container-id-1 div.sk-estimator input.sk-toggleable__control:checked~label.sk-toggleable__label {background-color: #d4ebff;}#sk-container-id-1 div.sk-label input.sk-toggleable__control:checked~label.sk-toggleable__label {background-color: #d4ebff;}#sk-container-id-1 input.sk-hidden--visually {border: 0;clip: rect(1px 1px 1px 1px);clip: rect(1px, 1px, 1px, 1px);height: 1px;margin: -1px;overflow: hidden;padding: 0;position: absolute;width: 1px;}#sk-container-id-1 div.sk-estimator {font-family: monospace;background-color: #f0f8ff;border: 1px dotted black;border-radius: 0.25em;box-sizing: border-box;margin-bottom: 0.5em;}#sk-container-id-1 div.sk-estimator:hover {background-color: #d4ebff;}#sk-container-id-1 div.sk-parallel-item::after {content: \"\";width: 100%;border-bottom: 1px solid gray;flex-grow: 1;}#sk-container-id-1 div.sk-label:hover label.sk-toggleable__label {background-color: #d4ebff;}#sk-container-id-1 div.sk-serial::before {content: \"\";position: absolute;border-left: 1px solid gray;box-sizing: border-box;top: 0;bottom: 0;left: 50%;z-index: 0;}#sk-container-id-1 div.sk-serial {display: flex;flex-direction: column;align-items: center;background-color: white;padding-right: 0.2em;padding-left: 0.2em;position: relative;}#sk-container-id-1 div.sk-item {position: relative;z-index: 1;}#sk-container-id-1 div.sk-parallel {display: flex;align-items: stretch;justify-content: center;background-color: white;position: relative;}#sk-container-id-1 div.sk-item::before, #sk-container-id-1 div.sk-parallel-item::before {content: \"\";position: absolute;border-left: 1px solid gray;box-sizing: border-box;top: 0;bottom: 0;left: 50%;z-index: -1;}#sk-container-id-1 div.sk-parallel-item {display: flex;flex-direction: column;z-index: 1;position: relative;background-color: white;}#sk-container-id-1 div.sk-parallel-item:first-child::after {align-self: flex-end;width: 50%;}#sk-container-id-1 div.sk-parallel-item:last-child::after {align-self: flex-start;width: 50%;}#sk-container-id-1 div.sk-parallel-item:only-child::after {width: 0;}#sk-container-id-1 div.sk-dashed-wrapped {border: 1px dashed gray;margin: 0 0.4em 0.5em 0.4em;box-sizing: border-box;padding-bottom: 0.4em;background-color: white;}#sk-container-id-1 div.sk-label label {font-family: monospace;font-weight: bold;display: inline-block;line-height: 1.2em;}#sk-container-id-1 div.sk-label-container {text-align: center;}#sk-container-id-1 div.sk-container {/* jupyter's `normalize.less` sets `[hidden] { display: none; }` but bootstrap.min.css set `[hidden] { display: none !important; }` so we also need the `!important` here to be able to override the default hidden behavior on the sphinx rendered scikit-learn.org. See: https://github.com/scikit-learn/scikit-learn/issues/21755 */display: inline-block !important;position: relative;}#sk-container-id-1 div.sk-text-repr-fallback {display: none;}</style><div id=\"sk-container-id-1\" class=\"sk-top-container\"><div class=\"sk-text-repr-fallback\"><pre>GaussianNB()</pre><b>In a Jupyter environment, please rerun this cell to show the HTML representation or trust the notebook. <br />On GitHub, the HTML representation is unable to render, please try loading this page with nbviewer.org.</b></div><div class=\"sk-container\" hidden><div class=\"sk-item\"><div class=\"sk-estimator sk-toggleable\"><input class=\"sk-toggleable__control sk-hidden--visually\" id=\"sk-estimator-id-1\" type=\"checkbox\" checked><label for=\"sk-estimator-id-1\" class=\"sk-toggleable__label sk-toggleable__label-arrow\">GaussianNB</label><div class=\"sk-toggleable__content\"><pre>GaussianNB()</pre></div></div></div></div></div>"
      ],
      "text/plain": [
       "GaussianNB()"
      ]
     },
     "execution_count": 70,
     "metadata": {},
     "output_type": "execute_result"
    }
   ],
   "source": [
    "clf = GaussianNB(priors = None)\n",
    "clf.fit(x_train_after_proc_and_pca, y_train_after_proc_and_pca)"
   ]
  },
  {
   "cell_type": "code",
   "execution_count": 71,
   "metadata": {},
   "outputs": [
    {
     "data": {
      "image/png": "[encoded data removed]",
      "text/plain": [
       "<Figure size 504x504 with 1 Axes>"
      ]
     },
     "metadata": {
      "needs_background": "light"
     },
     "output_type": "display_data"
    }
   ],
   "source": [
    "no_param = {}\n",
    "GaussianNB_scores_series = plot_roc(GaussianNB, \"GaussianNB\", no_param, 10, x_train_after_proc_and_pca, y_train_after_proc_and_pca, x_test_after_proc_and_pca, y_test_after_proc_and_pca)"
   ]
  },
  {
   "cell_type": "markdown",
   "metadata": {},
   "source": [
    "#### SVM"
   ]
  },
  {
   "cell_type": "code",
   "execution_count": 72,
   "metadata": {},
   "outputs": [],
   "source": [
    "param_svm = {'C': [0.01, 0.1, 1, 10], 'gamma': [0.01, 0.1, 1, 10], 'kernel': ['rbf']}\n",
    "\n",
    "svm = grid_search(SVC, param_svm, x_train_after_proc_and_pca, y_train_after_proc_and_pca)\n",
    "svm_param = svm.best_params_"
   ]
  },
  {
   "cell_type": "code",
   "execution_count": 73,
   "metadata": {},
   "outputs": [
    {
     "name": "stdout",
     "output_type": "stream",
     "text": [
      "best hyperparameters for SVM:{'C': 0.1, 'gamma': 0.01, 'kernel': 'rbf'}\n"
     ]
    }
   ],
   "source": [
    "print(f'best hyperparameters for SVM:{svm_param}')"
   ]
  },
  {
   "cell_type": "code",
   "execution_count": 74,
   "metadata": {},
   "outputs": [
    {
     "data": {
      "image/png": "[encoded data removed]",
      "text/plain": [
       "<Figure size 504x504 with 1 Axes>"
      ]
     },
     "metadata": {
      "needs_background": "light"
     },
     "output_type": "display_data"
    }
   ],
   "source": [
    "\n",
    "svm_scores_series = plot_roc(SVC, \"SVM\", svm_param, 10, x_train_after_proc_and_pca, y_train_after_proc_and_pca, x_test_after_proc_and_pca, y_test_after_proc_and_pca)"
   ]
  },
  {
   "cell_type": "markdown",
   "metadata": {},
   "source": [
    "#### Adaptive Boosting"
   ]
  },
  {
   "cell_type": "code",
   "execution_count": 75,
   "metadata": {
    "scrolled": false
   },
   "outputs": [],
   "source": [
    "param_adaboost = {\n",
    "    'random_state':[0],\n",
    "    'n_estimators':[50, 200, 500]\n",
    "}\n",
    "\n",
    "adaboost = grid_search(AdaBoostClassifier, param_adaboost, x_train_after_proc_and_pca, y_train_after_proc_and_pca)\n",
    "adaboost_param = adaboost.best_params_"
   ]
  },
  {
   "cell_type": "code",
   "execution_count": 76,
   "metadata": {},
   "outputs": [
    {
     "name": "stdout",
     "output_type": "stream",
     "text": [
      "best hyperparameters for Adaptive Boosting:{'n_estimators': 50, 'random_state': 0}\n"
     ]
    }
   ],
   "source": [
    "print(f'best hyperparameters for Adaptive Boosting:{adaboost_param}')"
   ]
  },
  {
   "cell_type": "code",
   "execution_count": 77,
   "metadata": {},
   "outputs": [
    {
     "data": {
      "image/png": "[encoded data removed]",
      "text/plain": [
       "<Figure size 504x504 with 1 Axes>"
      ]
     },
     "metadata": {
      "needs_background": "light"
     },
     "output_type": "display_data"
    }
   ],
   "source": [
    "adaboost_scores_series = plot_roc(AdaBoostClassifier, \"Adaptive Boosting\", adaboost_param, 10, x_train_after_proc_and_pca, y_train_after_proc_and_pca, x_test_after_proc_and_pca, y_test_after_proc_and_pca)"
   ]
  },
  {
   "cell_type": "markdown",
   "metadata": {},
   "source": [
    "We put the scores of all the models we ran on the data:"
   ]
  },
  {
   "cell_type": "code",
   "execution_count": 78,
   "metadata": {},
   "outputs": [
    {
     "data": {
      "text/html": [
       "<div>\n",
       "<style scoped>\n",
       "    .dataframe tbody tr th:only-of-type {\n",
       "        vertical-align: middle;\n",
       "    }\n",
       "\n",
       "    .dataframe tbody tr th {\n",
       "        vertical-align: top;\n",
       "    }\n",
       "\n",
       "    .dataframe thead th {\n",
       "        text-align: right;\n",
       "    }\n",
       "</style>\n",
       "<table border=\"1\" class=\"dataframe\">\n",
       "  <thead>\n",
       "    <tr style=\"text-align: right;\">\n",
       "      <th></th>\n",
       "      <th>Logistic Regression</th>\n",
       "      <th>GaussianNB</th>\n",
       "      <th>SVM</th>\n",
       "      <th>Adaptive Boosting</th>\n",
       "    </tr>\n",
       "    <tr>\n",
       "      <th>Score Type</th>\n",
       "      <th></th>\n",
       "      <th></th>\n",
       "      <th></th>\n",
       "      <th></th>\n",
       "    </tr>\n",
       "  </thead>\n",
       "  <tbody>\n",
       "    <tr>\n",
       "      <th>Train AUC</th>\n",
       "      <td>0.906141</td>\n",
       "      <td>0.773759</td>\n",
       "      <td>0.908733</td>\n",
       "      <td>0.913609</td>\n",
       "    </tr>\n",
       "    <tr>\n",
       "      <th>Test_AUC</th>\n",
       "      <td>0.893045</td>\n",
       "      <td>0.763117</td>\n",
       "      <td>0.906324</td>\n",
       "      <td>0.867357</td>\n",
       "    </tr>\n",
       "    <tr>\n",
       "      <th>Difference</th>\n",
       "      <td>0.013096</td>\n",
       "      <td>0.010642</td>\n",
       "      <td>0.002409</td>\n",
       "      <td>0.046252</td>\n",
       "    </tr>\n",
       "  </tbody>\n",
       "</table>\n",
       "</div>"
      ],
      "text/plain": [
       "            Logistic Regression  GaussianNB       SVM  Adaptive Boosting\n",
       "Score Type                                                              \n",
       "Train AUC              0.906141    0.773759  0.908733           0.913609\n",
       "Test_AUC               0.893045    0.763117  0.906324           0.867357\n",
       "Difference             0.013096    0.010642  0.002409           0.046252"
      ]
     },
     "execution_count": 78,
     "metadata": {},
     "output_type": "execute_result"
    }
   ],
   "source": [
    "score_type = pd.DataFrame({'Score Type': ['Train AUC', 'Test_AUC', 'Difference']})\n",
    "scores_df = pd.concat([score_type, log_reg_scores_series, GaussianNB_scores_series, svm_scores_series, adaboost_scores_series], axis=1)\n",
    "scores_df.set_index('Score Type')\n"
   ]
  },
  {
   "cell_type": "markdown",
   "metadata": {},
   "source": [
    "#### SVM Confusiom Matrix"
   ]
  },
  {
   "cell_type": "code",
   "execution_count": 79,
   "metadata": {},
   "outputs": [
    {
     "data": {
      "text/plain": [
       "<sklearn.metrics._plot.confusion_matrix.ConfusionMatrixDisplay at 0x171f718c1f0>"
      ]
     },
     "execution_count": 79,
     "metadata": {},
     "output_type": "execute_result"
    },
    {
     "data": {
      "image/png": "[encoded data removed]",
      "text/plain": [
       "<Figure size 432x288 with 2 Axes>"
      ]
     },
     "metadata": {
      "needs_background": "light"
     },
     "output_type": "display_data"
    }
   ],
   "source": [
    "chosen_model = SVC(**svm_param)\n",
    "chosen_model.fit(x_train_after_proc_and_pca, y_train_after_proc_and_pca)\n",
    "plt.figsize=(5, 5)\n",
    "plot_confusion_matrix(chosen_model, x_test_after_proc_and_pca, y_test_after_proc_and_pca, cmap='Blues')\n"
   ]
  },
  {
   "cell_type": "markdown",
   "metadata": {},
   "source": [
    "__<ins>Explanation:</ins>__<br>\n",
    "\n",
    "<ins>Cells which represent the model's correct predictions:</ins><br>\n",
    "\n",
    "- True Positive - 104 samples where the model predicted a purchase (1) and was right.\n",
    "\n",
    "- True Negative - 1751 samples where the model predicted no purchase (0) and was right.\n",
    "\n",
    "<ins>Cells which represent the model's errors:</ins><br>\n",
    "\n",
    "- False Positive - 29 samples where the model predicted a purchase (1) and was wrong.\n",
    "\n",
    "- False Negative - 212 samples where the model predicted no purchase (0) and was wrong.\n",
    "\n",
    "Evaluation of the model's performance:</ins><br>\n",
    "\n",
    "- Accuracy (Percentage of samples that were correctly labeled) $\\ \\frac{TP+TN}{TP+FP+FN+TN}$ = $\\ \\frac{104+1751}{104+1751+29+212}$ ~ 89% <br>\n",
    "\n",
    "- Precision (Confidence in true positives): $\\ \\frac{TP}{TP+FP}$ = $\\ \\frac{104}{104+29}$ ~ 78% <br>\n",
    "\n",
    "- Sensitivity (Confidence in not missing positives) $\\ \\frac{TP}{TP+FN}$ = $\\ \\frac{104}{104+212}$ ~ 33%\n",
    "\n",
    "- Specificity (Percentage of correct predictions out of all none purchases which are truly 0 labeled): $\\ \\frac{TN}{TN+FP}$ = $\\ \\frac{1751}{1751+29}$ ~ 98% <br>"
   ]
  },
  {
   "cell_type": "markdown",
   "metadata": {},
   "source": [
    "# Part 5 - Execution Of Predictions"
   ]
  },
  {
   "cell_type": "markdown",
   "metadata": {},
   "source": [
    "Pipeline"
   ]
  },
  {
   "cell_type": "code",
   "execution_count": 80,
   "metadata": {},
   "outputs": [],
   "source": [
    "#open train file\n",
    "data = pd.read_csv('train.csv')\n",
    "data = pd.DataFrame(data.iloc[: , 1:])\n",
    "name_col = data.columns[:-1]\n",
    "x_full_train = pd.DataFrame(data.iloc[:,:-1].values, columns = name_col)\n",
    "y_full_train = pd.DataFrame(data.iloc[:,-1])\n",
    "types_col = dict(data.dtypes[:-1])\n",
    "x_full_train = x_full_train.astype(types_col)\n",
    "#pre processing training data\n",
    "full_train_after_proc_and_pca = pre_process_train(x_full_train, y_full_train, 1)\n",
    "x_full_train = full_train_after_proc_and_pca[-1]\n",
    "y_full_train = full_train_after_proc_and_pca[0]\n",
    "list(full_train_after_proc_and_pca)\n",
    "#open test file\n",
    "data_test = pd.read_csv('test.csv')\n",
    "name_col = data_test.columns[1:]\n",
    "index_test = pd.DataFrame(data_test.iloc[: , 1:])\n",
    "final_test = pd.DataFrame(data_test.iloc[: , 1:])\n",
    "x_final_test = pd.DataFrame(final_test.values, columns = name_col)\n",
    "type_col = dict(data_test.dtypes[1:])\n",
    "x_final_test = x_final_test.astype(type_col)\n",
    "#pre processing test data\n",
    "final_test_after_proc_and_pca= pre_process_test(x_final_test, *full_train_after_proc_and_pca[1:-1])\n",
    "#running SVM with the best hyper parameters\n",
    "classifier = SVC(**svm_param,probability=True)\n",
    "classifier.fit(x_full_train, y_full_train)\n",
    "# find probability to be 1 (purchase) for the test set\n",
    "prob_test = pd.DataFrame(classifier.predict_proba(final_test_after_proc_and_pca))\n",
    "prob_test_1 = pd.DataFrame(prob_test[1].values, columns = [\"predict_prob\"])\n",
    "#export test prediction to csv file\n",
    "prob_test_1.to_csv(\"Submission_group_8.csv\", index = True, index_label = \"index\")"
   ]
  }
 ],
 "metadata": {
  "interpreter": {
   "hash": "851662f4bcf8fce61cd23200873d89fdbd593945a60da7b2b5c50a1315da7551"
  },
  "kernelspec": {
   "display_name": "Python 3",
   "language": "python",
   "name": "python3"
  },
  "language_info": {
   "codemirror_mode": {
    "name": "ipython",
    "version": 3
   },
   "file_extension": ".py",
   "mimetype": "text/x-python",
   "name": "python",
   "nbconvert_exporter": "python",
   "pygments_lexer": "ipython3",
   "version": "3.8.5"
  }
 },
 "nbformat": 4,
 "nbformat_minor": 2
}
